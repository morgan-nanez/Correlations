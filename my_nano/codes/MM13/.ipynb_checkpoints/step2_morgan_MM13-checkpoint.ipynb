{
 "cells": [
  {
   "cell_type": "markdown",
   "metadata": {},
   "source": [
    "# Find the GW skies which would have been detected"
   ]
  },
  {
   "cell_type": "code",
   "execution_count": 18,
   "metadata": {},
   "outputs": [],
   "source": [
    "#!/usr/bin/env python\n",
    "\"\"\"step2_find_detected_GW_skies.ipynb: a notebook to find detectable GW skies \"\"\"\n",
    "\n",
    "__author__ = \"Chiara M. F. Mingarelli\"\n",
    "__copyright__ = \"Copyright 2016, GWASAP project\"\n",
    "__credits__ = [\"Chiara Mingarelli\"]\n",
    "__license__ = \"GPL\"\n",
    "__version__ = \"0.0.1\"\n",
    "__maintainer__ = \"Chiara Mingarelli\"\n",
    "__email__ = \"mingarelli@gmail.com\""
   ]
  },
  {
   "cell_type": "code",
   "execution_count": 19,
   "metadata": {},
   "outputs": [],
   "source": [
    "from __future__ import division\n",
    "import os\n",
    "from IPython.display import display, Math, Latex\n",
    "import math\n",
    "from math import sqrt, cos, sin, pi\n",
    "import numpy as np\n",
    "import statsmodels.api as sm\n",
    "from scipy.interpolate import interp1d\n",
    "import scipy.integrate\n",
    "import matplotlib.pyplot as plt\n",
    "import matplotlib.mlab as ml\n",
    "from matplotlib.ticker import FormatStrFormatter, LinearLocator, NullFormatter, NullLocator, MultipleLocator\n",
    "import matplotlib.ticker\n",
    "import matplotlib.colors\n",
    "from matplotlib.font_manager import FontProperties\n",
    "from matplotlib import rc, text\n",
    "import healpy as hp\n",
    "#import plot_mpI2\n",
    "from astropy import units as u\n",
    "from astropy.coordinates import SkyCoord\n",
    "from astropy.io import fits\n",
    "from scipy.stats import norm\n",
    "import matplotlib.mlab as mlab\n",
    "from scipy import stats\n",
    "\n",
    "\n",
    "%matplotlib inline\n",
    "%config InlineBackend.figure_format = \"retina\""
   ]
  },
  {
   "cell_type": "code",
   "execution_count": 20,
   "metadata": {},
   "outputs": [],
   "source": [
    "nside = 2**6\n",
    "\n",
    "#available GW frequencies\n",
    "freq_choice = np.loadtxt(\"../gw_freqs1.dat\") "
   ]
  },
  {
   "cell_type": "code",
   "execution_count": 42,
   "metadata": {},
   "outputs": [],
   "source": [
    "#this is the path to where you store all the GW realizations\n",
    "\n",
    "files = []\n",
    "for i in os.listdir('../../rusty_data/MM13_Reg_Sigma_dex/114/'):\n",
    "    if i.endswith('.txt'):\n",
    "        files.append(i)"
   ]
  },
  {
   "cell_type": "code",
   "execution_count": 43,
   "metadata": {},
   "outputs": [
    {
     "name": "stdout",
     "output_type": "stream",
     "text": [
      "10000\n"
     ]
    }
   ],
   "source": [
    "print(len(files))"
   ]
  },
  {
   "cell_type": "code",
   "execution_count": 23,
   "metadata": {},
   "outputs": [],
   "source": [
    "def find_nearest(array ,value):\n",
    "    idx = (np.abs(array-value)).argmin()\n",
    "    return array[idx]"
   ]
  },
  {
   "cell_type": "code",
   "execution_count": 24,
   "metadata": {},
   "outputs": [],
   "source": [
    "#Paramters for so all plots look similar\n",
    "\n",
    "fig_width_pt = 245.27 #513.17           # Get this from LaTeX using \\showthe\\columnwidth\n",
    "inches_per_pt = 1.0/72.27               # Convert pt to inches\n",
    "golden_mean = (np.sqrt(5)-1.0)/2.0      # Aesthetic ratio\n",
    "fig_width = fig_width_pt*inches_per_pt  # width in inches\n",
    "fig_height =fig_width*golden_mean       # height in inches\n",
    "fig_size = [fig_width,fig_height]\n",
    "\n",
    "params = {'backend': 'pdf',\n",
    "        'axes.labelsize': 7,\n",
    "        'lines.markersize': 4,\n",
    "        'font.size': 7,\n",
    "        'xtick.major.size':6,\n",
    "        'xtick.minor.size':3,  \n",
    "        'ytick.major.size':6,\n",
    "        'ytick.minor.size':3, \n",
    "        'xtick.major.width':0.5,\n",
    "        'ytick.major.width':0.5,\n",
    "        'xtick.minor.width':0.5,\n",
    "        'ytick.minor.width':0.5,\n",
    "        'lines.markeredgewidth':1,\n",
    "        'axes.linewidth':1.2,\n",
    "        'legend.fontsize': 7,\n",
    "        'xtick.labelsize': 7,\n",
    "        'ytick.labelsize': 7,\n",
    "        'savefig.dpi':200,\n",
    "        'path.simplify':True,\n",
    "        'font.family': 'serif',\n",
    "        #'font.serif':'Times',\n",
    "        'text.latex.preamble': [r'\\usepackage{amsmath}'],\n",
    "        'text.usetex':True,\n",
    "        #'axes.color_cycle': ['b', 'lime', 'r', 'purple', 'g', 'c', 'm', 'orange', 'darkblue', \\\n",
    "        #                        'darkcyan', 'y','orangered','chartreuse','brown','deeppink','lightgreen', 'k'],\n",
    "        #'font.serif':cm,\n",
    "        'figure.figsize': fig_size}\n",
    "plt.rcParams.update(params)"
   ]
  },
  {
   "cell_type": "code",
   "execution_count": null,
   "metadata": {},
   "outputs": [],
   "source": [
    "#Gathers the data for each file in all realizations\n",
    "\n",
    "file_s = [] #numbers of sources per relaization\n",
    "gal_z = [] #z of all sources \n",
    "stall = [] #number of stalled binaries for each realization\n",
    "no_of_skies = len(files)\n",
    "\n",
    "for jj in range(no_of_skies):\n",
    "    filename = files[jj]\n",
    "    \n",
    "    #data from the general realizations\n",
    "    sim_sky = np.genfromtxt(\"../../rusty_data/MM13_Reg_Sigma_dex/114/\" + str(filename))\n",
    "    RA = sim_sky[:,0] #phi, add pi to this for healpix maps\n",
    "    file_s.append(RA.size) # number of galaxies in file\n",
    "    gal_z.append(sim_sky[:,14])\n",
    "    stall.append(sim_sky[0][18])"
   ]
  },
  {
   "cell_type": "code",
   "execution_count": null,
   "metadata": {},
   "outputs": [],
   "source": [
    "no_of_skies"
   ]
  },
  {
   "cell_type": "code",
   "execution_count": 29,
   "metadata": {},
   "outputs": [],
   "source": [
    "#methods to normalize histograms\n",
    "\n",
    "def hist_weight(lst):\n",
    "    return np.ones_like(lst)/len(lst)\n",
    "\n",
    "def auto_bin(bin_size, min_edge, max_edge):\n",
    "    # for nice looking bins\n",
    "    N = (max_edge-min_edge)/bin_size; Nplus1 = N + 1\n",
    "    bin_list = np.linspace(min_edge, max_edge, Nplus1)\n",
    "    return bin_list"
   ]
  },
  {
   "cell_type": "code",
   "execution_count": null,
   "metadata": {},
   "outputs": [],
   "source": [
    "#choose 50 random galxies to analyze their redshift, doing more would take a ton of time\n",
    "\n",
    "no_of_skies = len(files)\n",
    "#CHANGE BACK TO 50\n",
    "ran_z = np.random.choice(gal_z,50, replace=False)"
   ]
  },
  {
   "cell_type": "code",
   "execution_count": null,
   "metadata": {},
   "outputs": [],
   "source": [
    "#plots the redshift (z) of the 50 galaxies \n",
    "\n",
    "hist_bin = auto_bin(.2, .1, 4)\n",
    "\n",
    "test = []\n",
    "for i in range(len(ran_z)):\n",
    "    test.append(plt.hist(ran_z[i], hist_bin, weights = hist_weight(ran_z[i])))\n",
    "plt.ylabel(\"Count\")\n",
    "plt.xlabel(\"redshift $z$ of galaxy-galaxy merger\")  \n",
    "plt.tight_layout()\n",
    "\n",
    "\n",
    "plt.savefig(\"plots_sigma_114/step_2/114_redshift_mm13.pdf\")"
   ]
  },
  {
   "cell_type": "code",
   "execution_count": 14,
   "metadata": {},
   "outputs": [
    {
     "data": {
      "text/plain": [
       "10000"
      ]
     },
     "execution_count": 14,
     "metadata": {},
     "output_type": "execute_result"
    }
   ],
   "source": [
    "no_of_skies"
   ]
  },
  {
   "cell_type": "code",
   "execution_count": null,
   "metadata": {
    "scrolled": true
   },
   "outputs": [],
   "source": [
    "#gathers the mean and variance of the galaxies in each bin\n",
    "\n",
    "no_of_bins = hist_bin.size #20\n",
    "avg_test = []\n",
    "tMean = []\n",
    "tStd = []\n",
    "\n",
    "for j in range(no_of_bins - 1):\n",
    "    for i in range(len(ran_z)):\n",
    "        inst = plt.hist(gal_z[i], hist_bin, weights = hist_weight(gal_z[i]))[0][j]\n",
    "        #inst = values of histpgram, bins, pathes\n",
    "        avg_test.append(inst)\n",
    "    tMean.append(np.mean(avg_test))\n",
    "    tStd.append(np.std(avg_test))\n",
    "    avg_test = []\n",
    "    print (\"Mean value for j is \", tMean[j], j)\n"
   ]
  },
  {
   "cell_type": "code",
   "execution_count": null,
   "metadata": {},
   "outputs": [],
   "source": [
    "#causes error otherwise\n",
    "hist_bin = hist_bin[:-1]"
   ]
  },
  {
   "cell_type": "code",
   "execution_count": null,
   "metadata": {},
   "outputs": [],
   "source": [
    "#plot the average redshift with error for each bin\n",
    "\n",
    "fig, ax = plt.subplots()\n",
    "ax.bar(hist_bin, tMean, yerr=tStd,edgecolor = 'black', width = 0.2, alpha = 0.8)\n",
    "plt.xlim(0,4)\n",
    "plt.ylim(0,.4)\n",
    "majorLocator = MultipleLocator(.3)\n",
    "ax.xaxis.set_major_locator(majorLocator)\n",
    "plt.ylabel(\"Probability\")\n",
    "plt.xlabel(\"Redshift $z$ of galaxy-galaxy merger\")\n",
    "plt.tight_layout()\n",
    "\n",
    "plt.savefig(\"plots_sigma_76/step_2/76_redshift_avg_mm13_sig.pdf\")"
   ]
  },
  {
   "cell_type": "code",
   "execution_count": null,
   "metadata": {},
   "outputs": [],
   "source": [
    "print(tMean)\n",
    "print(tStd)"
   ]
  },
  {
   "cell_type": "code",
   "execution_count": null,
   "metadata": {},
   "outputs": [],
   "source": []
  },
  {
   "cell_type": "code",
   "execution_count": 40,
   "metadata": {},
   "outputs": [
    {
     "name": "stderr",
     "output_type": "stream",
     "text": [
      "/anaconda3/lib/python3.6/site-packages/ipykernel_launcher.py:7: DeprecationWarning: object of type <class 'numpy.float64'> cannot be safely interpreted as an integer.\n",
      "  import sys\n"
     ]
    },
    {
     "name": "stdout",
     "output_type": "stream",
     "text": [
      "76.9585 7.503757575375153\n"
     ]
    },
    {
     "name": "stderr",
     "output_type": "stream",
     "text": [
      "/anaconda3/lib/python3.6/site-packages/ipykernel_launcher.py:14: MatplotlibDeprecationWarning: scipy.stats.norm.pdf\n",
      "  \n"
     ]
    },
    {
     "data": {
      "image/png": "[encoded data removed]",
      "text/plain": [
       "<Figure size 244.354x151.019 with 1 Axes>"
      ]
     },
     "metadata": {
      "image/png": {
       "height": 145,
       "width": 239
      }
     },
     "output_type": "display_data"
    }
   ],
   "source": [
    "#plot the number of stalled sources per reliazation\n",
    "\n",
    "weightsSt =  np.ones_like(stall)/len(stall) #need for normalization\n",
    "\n",
    "bin_size = 1; min_edge = min(stall); max_edge = max(stall)\n",
    "N = (max_edge-min_edge)/bin_size; Nplus1 = N + 1\n",
    "bin_list = np.linspace(min_edge, max_edge, Nplus1)\n",
    "\n",
    "(mu, sigma) = norm.fit(stall) #mean and variance\n",
    "print(mu, sigma)\n",
    "\n",
    "shape, loc, scale = scipy.stats.lognorm.fit(stall)\n",
    "\n",
    "y = mlab.normpdf(bin_list, mu, sigma)\n",
    "l = plt.plot(bin_list, y, 'r--', linewidth=2)\n",
    "plt.hist(stall, bin_list, weights = weightsSt, alpha =0.8, align='left')\n",
    "\n",
    "plt.ylabel(\"Probability\")\n",
    "plt.xlabel(\"Number of Stalled Binaries per realization\")\n",
    "plt.tight_layout()\n",
    "\n",
    "plt.savefig(\"plots_sigma_76/step_2/76_no_stalled_mm13.pdf\")\n"
   ]
  },
  {
   "cell_type": "code",
   "execution_count": 41,
   "metadata": {},
   "outputs": [
    {
     "name": "stderr",
     "output_type": "stream",
     "text": [
      "/anaconda3/lib/python3.6/site-packages/ipykernel_launcher.py:6: DeprecationWarning: object of type <class 'float'> cannot be safely interpreted as an integer.\n",
      "  \n",
      "/anaconda3/lib/python3.6/site-packages/ipykernel_launcher.py:13: MatplotlibDeprecationWarning: scipy.stats.norm.pdf\n",
      "  del sys.path[0]\n"
     ]
    },
    {
     "name": "stdout",
     "output_type": "stream",
     "text": [
      "72.8642 19.008191875083753\n"
     ]
    },
    {
     "data": {
      "image/png": "[encoded data removed]",
      "text/plain": [
       "<Figure size 244.354x151.019 with 1 Axes>"
      ]
     },
     "metadata": {
      "image/png": {
       "height": 145,
       "width": 239
      }
     },
     "output_type": "display_data"
    }
   ],
   "source": [
    "#plot the number of sources per relaization\n",
    "\n",
    "weightsG = np.ones_like(file_s)/len(file_s)\n",
    "bin_size = 1; min_edge = min(file_s) ; max_edge = max(file_s)\n",
    "N = (max_edge-min_edge)/bin_size; Nplus1 = N + 1\n",
    "bin_list = np.linspace(min_edge, max_edge, Nplus1)\n",
    "\n",
    "(mu, sigma) = norm.fit(file_s) #mean and variance\n",
    "print(mu, sigma)\n",
    "\n",
    "\n",
    "\n",
    "y = mlab.normpdf(bin_list, mu, sigma)\n",
    "l = plt.plot(bin_list, y, 'r--', linewidth=2)\n",
    "plt.hist(file_s, bin_list, weights = weightsG, alpha =0.8, align='left')\n",
    "\n",
    "plt.ylabel(\"Probability\")\n",
    "plt.xlabel(\"Number of Sources Binaries per realization\")\n",
    "plt.tight_layout()\n",
    "\n",
    "plt.savefig(\"plots_sigma_76/step_2/76_no_sources_mm13.pdf\")\n",
    "\n"
   ]
  },
  {
   "cell_type": "code",
   "execution_count": null,
   "metadata": {},
   "outputs": [],
   "source": [
    "# File contents are the following:\n",
    "#RA_tot, DEC_tot, gw_freq_vec, strain_vec, mchirp_rec,q_rec, gal_cat_name, dist_list, mstar_list, \n",
    "#save_p, gal_choice, T_z_list, mergRate_list, t2c_list, z_list, r_inf_list, friction_list, \n",
    "#hardening_list, num_zeros"
   ]
  },
  {
   "cell_type": "code",
   "execution_count": null,
   "metadata": {
    "scrolled": false
   },
   "outputs": [],
   "source": [
    "#Create detected skies file --- CHANGE DESTINATION FILE\n",
    "\n",
    "no_of_skies = len(files)\n",
    "\n",
    "for jj in range(no_of_skies):\n",
    "    filename = files[jj]\n",
    "    \n",
    "    #General detetcted skies file\n",
    "    sim_sky = np.genfromtxt(\"../../rusty_data/MM13_Reg_Sigma/\"+str(filename))\n",
    "\n",
    "    RA = sim_sky[:,0] #phi, add pi to this for healpix maps\n",
    "    DEC = sim_sky[:,1] #theta\n",
    "    freq = sim_sky[:,2]\n",
    "    strain = sim_sky[:,3]\n",
    "    mchirp_rec = sim_sky[:,4]\n",
    "    q_rec = sim_sky[:,5]\n",
    "    gal_cat_name = np.genfromtxt(\"../../rusty_data/MM13_Reg_Sigma/\"+str(filename), usecols = 6, dtype='S13')\n",
    "    dist_list = sim_sky[:,7]\n",
    "    mstar_list = sim_sky[:,8]\n",
    "    save_p = sim_sky[:,9]\n",
    "    gal_choice = sim_sky[:,10] \n",
    "    T_z_list = sim_sky[:,11] \n",
    "    mergRate_list =sim_sky[:,12] \n",
    "    t2c_list = sim_sky[:,13] \n",
    "    z_list = sim_sky[:,14] \n",
    "    file_size = strain.size # number of galaxies in file\n",
    "    \n",
    "    #for each galaxy: if strain of source is higher than the healPix strain, then add to detetced skies file\n",
    "    for ii in range(file_size):\n",
    "        look_up_freq = find_nearest(freq_choice, freq[ii]) # what is the closest GW freq (out of 87)?\n",
    "        healpix_map = hp.read_map('../../healpix_maps/strain_map_freq_'+str(look_up_freq)+'Hz.fits')\n",
    "        pixNo = hp.pixelfunc.ang2pix(nside, pi/2-DEC[ii], pi+RA[ii]) # ± angles for correct display in healpix\n",
    "        pixStrain = healpix_map[pixNo]\n",
    "        if strain[ii] > pixStrain and strain[ii]>1e-15:  \n",
    "            dest_file = \"../../detectedSkies/mm13_sig_detected_skies.txt\"    \n",
    "            with open(dest_file, 'a+') as f:\n",
    "                f.write('{0} {1} {2} {3} {4} {5} {6} {7} {8} {9} {10} {11} {12} {13} {14}\\n'.format(RA[ii], \\\n",
    "                DEC[ii], look_up_freq, strain[ii], filename, mchirp_rec[ii],q_rec[ii], dist_list[ii], mstar_list[ii], \\\n",
    "                save_p[ii], gal_choice[ii], T_z_list[ii], mergRate_list[ii], t2c_list[ii], z_list[ii] ))"
   ]
  },
  {
   "cell_type": "code",
   "execution_count": null,
   "metadata": {},
   "outputs": [],
   "source": []
  }
 ],
 "metadata": {
  "kernelspec": {
   "display_name": "Python 3",
   "language": "python",
   "name": "python3"
  },
  "language_info": {
   "codemirror_mode": {
    "name": "ipython",
    "version": 3
   },
   "file_extension": ".py",
   "mimetype": "text/x-python",
   "name": "python",
   "nbconvert_exporter": "python",
   "pygments_lexer": "ipython3",
   "version": "3.6.5"
  }
 },
 "nbformat": 4,
 "nbformat_minor": 1
}
