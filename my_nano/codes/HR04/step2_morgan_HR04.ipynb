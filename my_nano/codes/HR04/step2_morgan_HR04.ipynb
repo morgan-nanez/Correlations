{
 "cells": [
  {
   "cell_type": "markdown",
   "metadata": {},
   "source": [
    "# Find the GW skies which would have been detected"
   ]
  },
  {
   "cell_type": "code",
   "execution_count": null,
   "metadata": {},
   "outputs": [],
   "source": [
    "#!/usr/bin/env python\n",
    "\"\"\"step2_find_detected_GW_skies.ipynb: a notebook to find detectable GW skies \"\"\"\n",
    "\n",
    "__author__ = \"Chiara M. F. Mingarelli\"\n",
    "__copyright__ = \"Copyright 2016, GWASAP project\"\n",
    "__credits__ = [\"Chiara Mingarelli\"]\n",
    "__license__ = \"GPL\"\n",
    "__version__ = \"0.0.1\"\n",
    "__maintainer__ = \"Chiara Mingarelli\"\n",
    "__email__ = \"mingarelli@gmail.com\""
   ]
  },
  {
   "cell_type": "code",
   "execution_count": 1,
   "metadata": {},
   "outputs": [],
   "source": [
    "from __future__ import division\n",
    "import os\n",
    "from IPython.display import display, Math, Latex\n",
    "import math\n",
    "from math import sqrt, cos, sin, pi\n",
    "import numpy as np\n",
    "import statsmodels.api as sm\n",
    "from scipy.interpolate import interp1d\n",
    "import scipy.integrate\n",
    "import matplotlib.pyplot as plt\n",
    "import matplotlib.mlab as ml\n",
    "from matplotlib.ticker import FormatStrFormatter, LinearLocator, NullFormatter, NullLocator, MultipleLocator\n",
    "import matplotlib.ticker\n",
    "import matplotlib.colors\n",
    "from matplotlib.font_manager import FontProperties\n",
    "from matplotlib import rc, text\n",
    "import healpy as hp\n",
    "import plot_mpl2 as plot\n",
    "from astropy import units as u\n",
    "from astropy.coordinates import SkyCoord\n",
    "from astropy.io import fits\n",
    "from scipy.stats import norm\n",
    "import matplotlib.mlab as mlab\n",
    "from scipy import stats\n",
    "from scipy.stats import skewnorm\n",
    "\n",
    "\n",
    "\n",
    "%matplotlib inline\n",
    "%config InlineBackend.figure_format = \"retina\""
   ]
  },
  {
   "cell_type": "code",
   "execution_count": 2,
   "metadata": {},
   "outputs": [],
   "source": [
    "nside = 2**6\n",
    "freq_choice = np.loadtxt(\"../gw_freqs1.dat\") #available GW frequencies"
   ]
  },
  {
   "cell_type": "code",
   "execution_count": 3,
   "metadata": {},
   "outputs": [],
   "source": [
    "files = []\n",
    "# this is the path to where you store all the GW realizations\n",
    "for i in os.listdir('../../rusty_data/HR04_Reg/30_dex/'):\n",
    "    if i.endswith('.txt'):\n",
    "        files.append(i)"
   ]
  },
  {
   "cell_type": "code",
   "execution_count": 4,
   "metadata": {},
   "outputs": [],
   "source": [
    "def find_nearest(array ,value):\n",
    "    idx = (np.abs(array-value)).argmin()\n",
    "    return array[idx]"
   ]
  },
  {
   "cell_type": "code",
   "execution_count": 5,
   "metadata": {},
   "outputs": [],
   "source": [
    "fig_width_pt = 245.27 #513.17           # Get this from LaTeX using \\showthe\\columnwidth\n",
    "inches_per_pt = 1.0/72.27               # Convert pt to inches\n",
    "golden_mean = (np.sqrt(5)-1.0)/2.0      # Aesthetic ratio\n",
    "fig_width = fig_width_pt*inches_per_pt  # width in inches\n",
    "fig_height =fig_width*golden_mean       # height in inches\n",
    "fig_size = [fig_width,fig_height]\n",
    "\n",
    "params = {'backend': 'pdf',\n",
    "        'axes.labelsize': 7,\n",
    "        'lines.markersize': 4,\n",
    "        'font.size': 7,\n",
    "        'xtick.major.size':6,\n",
    "        'xtick.minor.size':3,  \n",
    "        'ytick.major.size':6,\n",
    "        'ytick.minor.size':3, \n",
    "        'xtick.major.width':0.5,\n",
    "        'ytick.major.width':0.5,\n",
    "        'xtick.minor.width':0.5,\n",
    "        'ytick.minor.width':0.5,\n",
    "        'lines.markeredgewidth':1,\n",
    "        'axes.linewidth':1.2,\n",
    "        'legend.fontsize': 7,\n",
    "        'xtick.labelsize': 7,\n",
    "        'ytick.labelsize': 7,\n",
    "        'savefig.dpi':200,\n",
    "        'path.simplify':True,\n",
    "        'font.family': 'serif',\n",
    "        #'font.serif':'Times',\n",
    "        'text.latex.preamble': [r'\\usepackage{amsmath}'],\n",
    "        'text.usetex':True,\n",
    "        #'axes.color_cycle': ['b', 'lime', 'r', 'purple', 'g', 'c', 'm', 'orange', 'darkblue', \\\n",
    "        #                        'darkcyan', 'y','orangered','chartreuse','brown','deeppink','lightgreen', 'k'],\n",
    "        #'font.serif':cm,\n",
    "        'figure.figsize': fig_size}\n",
    "plt.rcParams.update(params)"
   ]
  },
  {
   "cell_type": "code",
   "execution_count": 6,
   "metadata": {},
   "outputs": [],
   "source": [
    "#RA_tot, DEC_tot, gw_freq_vec, strain_vec, mchirp_rec,q_rec, gal_cat_name, dist_list, mstar_list, \n",
    "#save_p, gal_choice, T_z_list, mergRate_list, t2c_list, z_list, r_inf_list, friction_list, \n",
    "#hardening_list, num_zeros\n",
    "\n",
    "file_s = []\n",
    "gal_z = []\n",
    "stall = []\n",
    "r_inf = []\n",
    "no_of_skies = len(files)\n",
    "\n",
    "# remember to update the path here to the one with all your realizations\n",
    "for jj in range(no_of_skies):\n",
    "    filename = files[jj]\n",
    "    sim_sky = np.genfromtxt(\"../../rusty_data/HR04_Reg/30_dex/\" + str(filename))    \n",
    "    RA = sim_sky[:,0] #phi, add pi to this for healpix maps\n",
    "    file_s.append(RA.size) # number of galaxies in file\n",
    "    gal_z.append(sim_sky[:,-5])\n",
    "    stall.append(sim_sky[0][-1])\n",
    "    #r_inf.append(sim_sky[:,-4])\n"
   ]
  },
  {
   "cell_type": "code",
   "execution_count": 7,
   "metadata": {},
   "outputs": [
    {
     "data": {
      "text/plain": [
       "106048"
      ]
     },
     "execution_count": 7,
     "metadata": {},
     "output_type": "execute_result"
    }
   ],
   "source": [
    "no_of_skies"
   ]
  },
  {
   "cell_type": "code",
   "execution_count": 8,
   "metadata": {},
   "outputs": [
    {
     "data": {
      "text/plain": [
       "4.786300923226384"
      ]
     },
     "execution_count": 8,
     "metadata": {},
     "output_type": "execute_result"
    }
   ],
   "source": [
    "10**0.68"
   ]
  },
  {
   "cell_type": "code",
   "execution_count": 9,
   "metadata": {},
   "outputs": [],
   "source": [
    "def hist_weight(lst):\n",
    "    return np.ones_like(lst)/len(lst)\n",
    "\n",
    "def auto_bin(bin_size, min_edge, max_edge):\n",
    "    # for nice looking bins\n",
    "    N = (max_edge-min_edge)/bin_size; Nplus1 = N + 1\n",
    "    bin_list = np.linspace(min_edge, max_edge, Nplus1)\n",
    "    return bin_list"
   ]
  },
  {
   "cell_type": "code",
   "execution_count": null,
   "metadata": {},
   "outputs": [],
   "source": [
    "hist_bin = auto_bin(.2, .1, 4)"
   ]
  },
  {
   "cell_type": "code",
   "execution_count": null,
   "metadata": {},
   "outputs": [],
   "source": [
    "no_of_skies = len(files)\n",
    "ran_z = np.random.choice(gal_z, 50, replace=False) # choose a sample of 50 random galaxies"
   ]
  },
  {
   "cell_type": "code",
   "execution_count": null,
   "metadata": {},
   "outputs": [],
   "source": [
    "len(ran_z)"
   ]
  },
  {
   "cell_type": "code",
   "execution_count": null,
   "metadata": {},
   "outputs": [],
   "source": [
    "test = []\n",
    "for i in range(len(ran_z)):\n",
    "    test.append(plt.hist(ran_z[i], hist_bin, weights = hist_weight(ran_z[i])))\n",
    "plt.ylabel(\"Count\")\n",
    "plt.xlabel(\"redshift $z$ of galaxy-galaxy merger\")  \n",
    "plt.tight_layout()\n",
    "plt.savefig(\"plots_hr04_30/step_2/30_redshift_hr04.pdf\")"
   ]
  },
  {
   "cell_type": "code",
   "execution_count": null,
   "metadata": {
    "scrolled": true
   },
   "outputs": [],
   "source": [
    "#takes a long time\n",
    "no_of_bins = hist_bin.size\n",
    "avg_test = []\n",
    "tMean = []\n",
    "tStd = []\n",
    "\n",
    "for j in range(no_of_bins - 1):\n",
    "    for i in range(len(ran_z)):\n",
    "        inst = plt.hist(gal_z[i], hist_bin, weights = hist_weight(gal_z[i]))[0][j]\n",
    "        #print inst, i, j\n",
    "        avg_test.append(inst)\n",
    "    tMean.append(np.mean(avg_test))\n",
    "    tStd.append(np.std(avg_test))\n",
    "    avg_test = []\n",
    "    print (\"Mean value for j is \", tMean[j], j)\n"
   ]
  },
  {
   "cell_type": "code",
   "execution_count": null,
   "metadata": {},
   "outputs": [],
   "source": [
    "ind = avg_test[0][1]"
   ]
  },
  {
   "cell_type": "code",
   "execution_count": null,
   "metadata": {},
   "outputs": [],
   "source": [
    "avg_test"
   ]
  },
  {
   "cell_type": "code",
   "execution_count": null,
   "metadata": {},
   "outputs": [],
   "source": [
    "print ind[0:19]"
   ]
  },
  {
   "cell_type": "code",
   "execution_count": null,
   "metadata": {
    "scrolled": true
   },
   "outputs": [],
   "source": [
    "print(len(tMean))\n",
    "print(tMean)\n",
    "print(tStd)"
   ]
  },
  {
   "cell_type": "code",
   "execution_count": null,
   "metadata": {},
   "outputs": [],
   "source": [
    "hist_bin = hist_bin[:-1]"
   ]
  },
  {
   "cell_type": "code",
   "execution_count": null,
   "metadata": {},
   "outputs": [],
   "source": [
    "fig, ax = plt.subplots()\n",
    "a1 = ax.bar(hist_bin, tMean, yerr=tStd,edgecolor = 'black', width = 0.2, alpha = 0.8)\n",
    "plt.xlim(0,4)\n",
    "plt.ylim(0,.4)\n",
    "majorLocator = MultipleLocator(.3)\n",
    "#minorLocator = MultipleLocator(5)\n",
    "#ax.xaxis.set_minor_locator(minorLocator)\n",
    "ax.xaxis.set_major_locator(majorLocator)\n",
    "#ax.set_xticks(np.around(ind[0:19],1))\n",
    "#for tick in ax.xaxis.get_major_ticks():\n",
    "#    tick.label1.set_horizontalalignment('center')\n",
    "#    tick.label.set_fontsize(6) \n",
    "plt.ylabel(\"Probability\")\n",
    "plt.xlabel(\"Redshift $z$ of galaxy-galaxy merger\")\n",
    "plt.tight_layout()\n",
    "plt.savefig(\"plots_hr04_30/step_2/30_redshift_avg_hr04.pdf\")\n"
   ]
  },
  {
   "cell_type": "code",
   "execution_count": 10,
   "metadata": {},
   "outputs": [
    {
     "data": {
      "text/plain": [
       "768.0"
      ]
     },
     "execution_count": 10,
     "metadata": {},
     "output_type": "execute_result"
    }
   ],
   "source": [
    "max(stall)"
   ]
  },
  {
   "cell_type": "code",
   "execution_count": 11,
   "metadata": {},
   "outputs": [],
   "source": [
    "weightsSt =  np.ones_like(stall)/len(stall)"
   ]
  },
  {
   "cell_type": "code",
   "execution_count": 16,
   "metadata": {},
   "outputs": [
    {
     "name": "stderr",
     "output_type": "stream",
     "text": [
      "/anaconda3/lib/python3.6/site-packages/ipykernel_launcher.py:3: DeprecationWarning: object of type <class 'float'> cannot be safely interpreted as an integer.\n",
      "  This is separate from the ipykernel package so we can avoid doing imports until\n"
     ]
    },
    {
     "name": "stdout",
     "output_type": "stream",
     "text": [
      "25.432728575739286 27.012079542532195\n",
      "(0.9326610245842901, -0.6466257780025557, 17.231530579096077)\n",
      "[0.00135015 0.01092217 0.02149382 0.0293271  0.03429703 0.03703938\n",
      " 0.03819785 0.03827608 0.03763878 0.03654222 0.03516403 0.03362637\n",
      " 0.03201268 0.03037943 0.02876433 0.02719203 0.02567807 0.02423166\n",
      " 0.02285762 0.02155775 0.0203318  0.01917814 0.01809426 0.01707708\n",
      " 0.01612325 0.01522923 0.01439151 0.01360659 0.01287111 0.01218183\n",
      " 0.01153568 0.01092976 0.01036135 0.00982789 0.00932699 0.00885645\n",
      " 0.00841418 0.00799827 0.00760694 0.00723853 0.0068915  0.00656444\n",
      " 0.00625602 0.00596501 0.00569028 0.00543078 0.00518553 0.00495362\n",
      " 0.00473421 0.00452651 0.00432979 0.00414339 0.00396666 0.00379903\n",
      " 0.00363994 0.00348889 0.00334541 0.00320904 0.00307938 0.00295603\n",
      " 0.00283865 0.00272689 0.00262044 0.002519   0.0024223  0.00233007\n",
      " 0.00224207 0.00215809 0.00207789 0.00200128 0.00192808 0.00185811\n",
      " 0.00179119 0.00172717 0.00166591 0.00160727 0.00155111 0.00149731\n",
      " 0.00144576 0.00139634 0.00134895 0.0013035  0.00125989 0.00121803\n",
      " 0.00117784 0.00113925 0.00110217 0.00106655 0.00103231 0.00099938\n",
      " 0.00096772 0.00093726 0.00090795 0.00087974 0.00085258 0.00082643\n",
      " 0.00080124 0.00077697 0.00075358 0.00073103 0.00070929 0.00068833\n",
      " 0.00066811 0.0006486  0.00062977 0.00061159 0.00059404 0.0005771\n",
      " 0.00056073 0.00054492 0.00052964 0.00051487 0.0005006  0.00048679\n",
      " 0.00047344 0.00046053 0.00044804 0.00043596 0.00042426 0.00041294\n",
      " 0.00040198 0.00039136 0.00038108 0.00037112 0.00036147 0.00035213\n",
      " 0.00034306 0.00033428 0.00032577 0.00031751 0.0003095  0.00030173\n",
      " 0.0002942  0.00028689 0.00027979 0.00027291 0.00026622 0.00025973\n",
      " 0.00025343 0.00024731 0.00024137 0.00023559 0.00022998 0.00022453\n",
      " 0.00021923 0.00021408 0.00020908 0.00020421 0.00019948 0.00019488\n",
      " 0.0001904 ]\n",
      "2.411812585422017\n"
     ]
    },
    {
     "data": {
      "image/png": "[encoded data removed]",
      "text/plain": [
       "<Figure size 244.354x151.019 with 1 Axes>"
      ]
     },
     "metadata": {
      "image/png": {
       "height": 145,
       "width": 235
      }
     },
     "output_type": "display_data"
    }
   ],
   "source": [
    "bin_size = 1; min_edge = 0; max_edge = 150\n",
    "N = (max_edge-min_edge)/bin_size; Nplus1 = N + 1\n",
    "bin_list = np.linspace(min_edge, max_edge, Nplus1)\n",
    "\n",
    "(mu, sigma) = norm.fit(stall)\n",
    "print(mu, sigma)\n",
    "\n",
    "\n",
    "\n",
    "\n",
    "shape, loc, scale = scipy.stats.lognorm.fit(stall)\n",
    "\n",
    "param=scipy.stats.lognorm.fit(stall)\n",
    "#param[0] = scatter\n",
    "#param[1] = loc\n",
    "#np.log(param[2]) = mean\n",
    "print(param)\n",
    "\n",
    "\n",
    "pdf_fitted = scipy.stats.lognorm.pdf(bin_list, param[0], loc=param[1], scale=param[2]) # fitted distribution\n",
    "\n",
    "#plt.plot(bin_list,pdf_fitted,'r-')\n",
    "plt.hist(stall, bin_list, weights = weightsSt, alpha =0.8, align='left', color = \"C2\", label = \"HR04\")\n",
    "\n",
    "\n",
    "\n",
    "plt.ylabel(\"Probability\")\n",
    "plt.xlabel(\"Number of Stalled Binaries per realization\")\n",
    "plt.legend(frameon=False,loc=4)\n",
    "plt.tight_layout()\n",
    "plt.axvline(np.log(param[2]))\n",
    "#use that number \n",
    "\n",
    "\n",
    "plt.savefig(\"plots_hr04_30/step_2/no_stalled_hr04_PPT.pdf\")"
   ]
  },
  {
   "cell_type": "code",
   "execution_count": 40,
   "metadata": {},
   "outputs": [],
   "source": [
    "weightsG = np.ones_like(file_s)/len(file_s)"
   ]
  },
  {
   "cell_type": "code",
   "execution_count": 19,
   "metadata": {},
   "outputs": [
    {
     "name": "stderr",
     "output_type": "stream",
     "text": [
      "/anaconda3/lib/python3.6/site-packages/ipykernel_launcher.py:3: DeprecationWarning: object of type <class 'float'> cannot be safely interpreted as an integer.\n",
      "  This is separate from the ipykernel package so we can avoid doing imports until\n"
     ]
    },
    {
     "name": "stdout",
     "output_type": "stream",
     "text": [
      "227.82407966203982 128.67070743101365\n",
      "(0.5256464999322747, -5.313702769941033, 203.29116158575033)\n",
      "1.6915520832601425\n",
      "1.941912674894269e+88\n"
     ]
    },
    {
     "data": {
      "text/plain": [
       "<matplotlib.legend.Legend at 0x1c281230f0>"
      ]
     },
     "execution_count": 19,
     "metadata": {},
     "output_type": "execute_result"
    },
    {
     "data": {
      "image/png": "[encoded data removed]",
      "text/plain": [
       "<Figure size 244.354x151.019 with 1 Axes>"
      ]
     },
     "metadata": {
      "image/png": {
       "height": 145,
       "width": 239
      }
     },
     "output_type": "display_data"
    }
   ],
   "source": [
    "bin_size = 1; min_edge = 0; max_edge = 600\n",
    "N = (max_edge-min_edge)/bin_size; Nplus1 = N + 1\n",
    "bin_list = np.linspace(min_edge, max_edge, Nplus1)\n",
    "\n",
    "(mu, sigma) = norm.fit(file_s)\n",
    "print(mu, sigma)\n",
    "\n",
    "\n",
    "\n",
    "shape, loc, scale = scipy.stats.lognorm.fit(file_s)\n",
    "\n",
    "param=scipy.stats.lognorm.fit(file_s)\n",
    "print(param)\n",
    "\n",
    "pdf_fitted = scipy.stats.lognorm.pdf(bin_list, param[0], loc=param[1], scale=param[2]) # fitted distribution\n",
    "#plt.plot(bin_list,pdf_fitted,'r-')\n",
    "plt.hist(file_s, bin_list, weights = weightsSt, alpha =0.8, align='left', color = \"C2\", label = \"HR04\")\n",
    "\n",
    "\n",
    "print(np.exp(param[0]))\n",
    "print(np.exp(param[2]))\n",
    "\n",
    "plt.ylabel(\"Probability\")\n",
    "plt.xlabel(\"Number of Sources per realization\")\n",
    "plt.tight_layout()\n",
    "\n",
    "plt.legend(frameon=False)\n",
    "\n",
    "\n",
    "plt.savefig(\"plots_hr04_30/step_2/no_sources_hr04_ppt.pdf\")"
   ]
  },
  {
   "cell_type": "code",
   "execution_count": null,
   "metadata": {},
   "outputs": [],
   "source": [
    "e**(5.28)"
   ]
  },
  {
   "cell_type": "code",
   "execution_count": null,
   "metadata": {},
   "outputs": [],
   "source": [
    "print(mu, sigma, skew)"
   ]
  },
  {
   "cell_type": "code",
   "execution_count": null,
   "metadata": {},
   "outputs": [],
   "source": [
    "weightsG = np.ones_like(file_s)/len(file_s)"
   ]
  },
  {
   "cell_type": "code",
   "execution_count": null,
   "metadata": {},
   "outputs": [],
   "source": [
    "min(file_s)"
   ]
  },
  {
   "cell_type": "code",
   "execution_count": null,
   "metadata": {},
   "outputs": [],
   "source": [
    "bin_size = 1; min_edge = 20; max_edge = 500\n",
    "N = (max_edge-min_edge)/bin_size; Nplus1 = N + 1\n",
    "bin_list = np.linspace(min_edge, max_edge, Nplus1)\n",
    "\n",
    "(mu, sigma) = norm.fit(file_s)\n",
    "y = mlab.normpdf(bin_list, mu, sigma)\n",
    "#l = plt.plot(bin_list, y, 'r--', linewidth=2)\n",
    "\n",
    "print(stats.describe(file_s))\n",
    "nobs, minmax, mu, sigma, skew, kurt = stats.describe(file_s)\n",
    "\n",
    "\n",
    "\n",
    "\n",
    "l = plt.plot(bin_list, skewnorm.pdf(bin_list, *skewnorm.fit(file_s)))\n",
    "\n",
    "\n",
    "plt.hist(file_s, bin_list, weights = weightsG, alpha =0.8, align='left')\n",
    "plt.ylabel(\"Probability\")\n",
    "plt.xlabel(\"Number of Galaxies per Realization\")\n",
    "plt.tight_layout()\n",
    "plt.savefig(\"plots_hr04/step_2/no_sources_hr04.pdf\")\n",
    "\n"
   ]
  },
  {
   "cell_type": "code",
   "execution_count": null,
   "metadata": {},
   "outputs": [],
   "source": [
    "mu, sigma"
   ]
  },
  {
   "cell_type": "code",
   "execution_count": null,
   "metadata": {},
   "outputs": [],
   "source": [
    "print(stall)\n",
    "print(files_s)"
   ]
  },
  {
   "cell_type": "code",
   "execution_count": null,
   "metadata": {},
   "outputs": [],
   "source": [
    "# File contents are the following:\n",
    "#RA_tot, DEC_tot, gw_freq_vec, strain_vec, mchirp_rec,q_rec, gal_cat_name, dist_list, mstar_list, \n",
    "#save_p, gal_choice, T_z_list, mergRate_list, t2c_list, z_list, r_inf_list, friction_list, \n",
    "#hardening_list, num_zeros"
   ]
  },
  {
   "cell_type": "code",
   "execution_count": null,
   "metadata": {
    "scrolled": false
   },
   "outputs": [],
   "source": [
    "no_of_skies = len(files)\n",
    "\n",
    "for jj in range(no_of_skies):\n",
    "    filename = files[jj]\n",
    "    sim_sky = np.genfromtxt(\"../../rusty_data/HR04_Reg/test01/\"+str(filename))\n",
    "\n",
    "    RA = sim_sky[:,0] #phi, add pi to this for healpix maps\n",
    "    DEC = sim_sky[:,1] #theta\n",
    "    freq = sim_sky[:,2]\n",
    "    strain = sim_sky[:,3]\n",
    "    mchirp_rec = sim_sky[:,4]\n",
    "    q_rec = sim_sky[:,5]\n",
    "    gal_cat_name = np.genfromtxt(\"../../rusty_data/HR04_Reg/test01/\"+str(filename), usecols = 6, dtype='S13')\n",
    "\n",
    "    dist_list = sim_sky[:,7]\n",
    "    mstar_list = sim_sky[:,8]\n",
    "    save_p = sim_sky[:,9]\n",
    "    gal_choice = sim_sky[:,10] \n",
    "    T_z_list = sim_sky[:,11] \n",
    "    mergRate_list =sim_sky[:,12] \n",
    "    t2c_list = sim_sky[:,13] \n",
    "    z_list = sim_sky[:,14] \n",
    "    file_size = strain.size # number of galaxies in file\n",
    "\n",
    "    for ii in range(file_size):\n",
    "        look_up_freq = find_nearest(freq_choice, freq[ii]) # what is the closest GW freq (out of 87)?\n",
    "        healpix_map = hp.read_map('../../healpix_maps/strain_map_freq_'+str(look_up_freq)+'Hz.fits')\n",
    "        pixNo = hp.pixelfunc.ang2pix(nside, pi/2-DEC[ii], pi+RA[ii]) # ± angles for correct display in healpix\n",
    "        pixStrain = healpix_map[pixNo]\n",
    "        #hp.mollview(healpix_map)\n",
    "        if strain[ii] > pixStrain and strain[ii]>1e-15:\n",
    "            dest_file = \"../../detectedSkies/detected_skies_HR04_10.txt\"    \n",
    "            with open(dest_file, 'a+') as f:\n",
    "                f.write('{0} {1} {2} {3} {4} {5} {6} {7} {8} {9} {10} {11} {12} {13} {14}\\n'.format(RA[ii], \\\n",
    "                DEC[ii], look_up_freq, strain[ii], filename, mchirp_rec[ii],q_rec[ii], dist_list[ii], mstar_list[ii], \\\n",
    "                save_p[ii], gal_choice[ii], T_z_list[ii], mergRate_list[ii], t2c_list[ii], z_list[ii] ))\n",
    "    #print \"Realization \"+str(jj)+\", \"+str((jj/no_of_skies)*100)+\"%\""
   ]
  }
 ],
 "metadata": {
  "kernelspec": {
   "display_name": "Python 3",
   "language": "python",
   "name": "python3"
  },
  "language_info": {
   "codemirror_mode": {
    "name": "ipython",
    "version": 3
   },
   "file_extension": ".py",
   "mimetype": "text/x-python",
   "name": "python",
   "nbconvert_exporter": "python",
   "pygments_lexer": "ipython3",
   "version": "3.6.5"
  }
 },
 "nbformat": 4,
 "nbformat_minor": 1
}
