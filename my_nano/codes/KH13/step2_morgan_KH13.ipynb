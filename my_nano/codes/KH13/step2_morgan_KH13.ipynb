{
 "cells": [
  {
   "cell_type": "markdown",
   "metadata": {},
   "source": [
    "# Find the GW skies which would have been detected"
   ]
  },
  {
   "cell_type": "code",
   "execution_count": 1,
   "metadata": {},
   "outputs": [],
   "source": [
    "#!/usr/bin/env python\n",
    "\"\"\"step2_find_detected_GW_skies.ipynb: a notebook to find detectable GW skies \"\"\"\n",
    "\n",
    "__author__ = \"Chiara M. F. Mingarelli\"\n",
    "__copyright__ = \"Copyright 2016, GWASAP project\"\n",
    "__credits__ = [\"Chiara Mingarelli\"]\n",
    "__license__ = \"GPL\"\n",
    "__version__ = \"0.0.1\"\n",
    "__maintainer__ = \"Chiara Mingarelli\"\n",
    "__email__ = \"mingarelli@gmail.com\""
   ]
  },
  {
   "cell_type": "code",
   "execution_count": 71,
   "metadata": {},
   "outputs": [],
   "source": [
    "from __future__ import division\n",
    "import os\n",
    "from IPython.display import display, Math, Latex\n",
    "import math\n",
    "from math import sqrt, cos, sin, pi\n",
    "import numpy as np\n",
    "import statsmodels.api as sm\n",
    "from scipy.interpolate import interp1d\n",
    "import scipy.integrate\n",
    "import matplotlib.pyplot as plt\n",
    "import matplotlib.mlab as ml\n",
    "from matplotlib.ticker import FormatStrFormatter, LinearLocator, NullFormatter, NullLocator, MultipleLocator\n",
    "import matplotlib.ticker\n",
    "import matplotlib.colors\n",
    "from matplotlib.font_manager import FontProperties\n",
    "from matplotlib import rc, text\n",
    "import healpy as hp\n",
    "#import plot_mpI2\n",
    "from astropy import units as u\n",
    "from astropy.coordinates import SkyCoord\n",
    "from astropy.io import fits\n",
    "from scipy.stats import norm\n",
    "import matplotlib.mlab as mlab\n",
    "from scipy.stats import lognorm\n",
    "from scipy import stats\n",
    "\n",
    "\n",
    "%matplotlib inline\n",
    "%config InlineBackend.figure_format = \"retina\""
   ]
  },
  {
   "cell_type": "code",
   "execution_count": 72,
   "metadata": {},
   "outputs": [],
   "source": [
    "nside = 2**6\n",
    "freq_choice = np.loadtxt(\"../gw_freqs1.dat\") #available GW frequencies"
   ]
  },
  {
   "cell_type": "code",
   "execution_count": 110,
   "metadata": {},
   "outputs": [],
   "source": [
    "files = []\n",
    "# this is the path to where you store all the GW realizations\n",
    "for i in os.listdir('../../rusty_data/KH13_Reg_Sigma_dex/87/'):\n",
    "    if i.endswith('.txt'):\n",
    "        files.append(i)"
   ]
  },
  {
   "cell_type": "code",
   "execution_count": 111,
   "metadata": {},
   "outputs": [
    {
     "name": "stdout",
     "output_type": "stream",
     "text": [
      "10000\n"
     ]
    }
   ],
   "source": [
    "print(len(files))"
   ]
  },
  {
   "cell_type": "code",
   "execution_count": 81,
   "metadata": {},
   "outputs": [],
   "source": [
    "def find_nearest(array ,value):\n",
    "    idx = (np.abs(array-value)).argmin()\n",
    "    return array[idx]"
   ]
  },
  {
   "cell_type": "code",
   "execution_count": 82,
   "metadata": {},
   "outputs": [],
   "source": [
    "fig_width_pt = 245.27 #513.17           # Get this from LaTeX using \\showthe\\columnwidth\n",
    "inches_per_pt = 1.0/72.27               # Convert pt to inches\n",
    "golden_mean = (np.sqrt(5)-1.0)/2.0      # Aesthetic ratio\n",
    "fig_width = fig_width_pt*inches_per_pt  # width in inches\n",
    "fig_height =fig_width*golden_mean       # height in inches\n",
    "fig_size = [fig_width,fig_height]\n",
    "\n",
    "params = {'backend': 'pdf',\n",
    "        'axes.labelsize': 7,\n",
    "        'lines.markersize': 4,\n",
    "        'font.size': 7,\n",
    "        'xtick.major.size':6,\n",
    "        'xtick.minor.size':3,  \n",
    "        'ytick.major.size':6,\n",
    "        'ytick.minor.size':3, \n",
    "        'xtick.major.width':0.5,\n",
    "        'ytick.major.width':0.5,\n",
    "        'xtick.minor.width':0.5,\n",
    "        'ytick.minor.width':0.5,\n",
    "        'lines.markeredgewidth':1,\n",
    "        'axes.linewidth':1.2,\n",
    "        'legend.fontsize': 7,\n",
    "        'xtick.labelsize': 7,\n",
    "        'ytick.labelsize': 7,\n",
    "        'savefig.dpi':200,\n",
    "        'path.simplify':True,\n",
    "        'font.family': 'serif',\n",
    "        #'font.serif':'Times',\n",
    "        'text.latex.preamble': [r'\\usepackage{amsmath}'],\n",
    "        'text.usetex':True,\n",
    "        #'axes.color_cycle': ['b', 'lime', 'r', 'purple', 'g', 'c', 'm', 'orange', 'darkblue', \\\n",
    "        #                        'darkcyan', 'y','orangered','chartreuse','brown','deeppink','lightgreen', 'k'],\n",
    "        #'font.serif':cm,\n",
    "        'figure.figsize': fig_size}\n",
    "plt.rcParams.update(params)"
   ]
  },
  {
   "cell_type": "code",
   "execution_count": 112,
   "metadata": {},
   "outputs": [],
   "source": [
    "#RA_tot, DEC_tot, gw_freq_vec, strain_vec, mchirp_rec,q_rec, gal_cat_name, dist_list, mstar_list, \n",
    "#save_p, gal_choice, T_z_list, mergRate_list, t2c_list, z_list, r_inf_list, friction_list, \n",
    "#hardening_list, num_zeros\n",
    "\n",
    "file_s = []\n",
    "gal_z = []\n",
    "stall = []\n",
    "r_inf = []\n",
    "no_of_skies = len(files)\n",
    "\n",
    "# remember to update the path here to the one with all your realizations\n",
    "for jj in range(no_of_skies):\n",
    "    filename = files[jj]\n",
    "    \n",
    "    sim_sky = np.genfromtxt(\"../../rusty_data/KH13_Reg_Sigma_dex/87/\" + str(filename)) \n",
    "    if(len(sim_sky) != 0):\n",
    "        try:    \n",
    "            RA = sim_sky[:,0] #phi, add pi to this for healpix maps\n",
    "            file_s.append(RA.size) # number of galaxies in file\n",
    "            gal_z.append(sim_sky[:,14])\n",
    "            stall.append(sim_sky[0][18])\n",
    "        except Exception as e:\n",
    "            fake = np.zeros((1, 19))\n",
    "            fake[0] = sim_sky\n",
    "            RA = fake[:,0] #phi, add pi to this for healpix maps\n",
    "            file_s.append(RA.size) # number of galaxies in file\n",
    "            gal_z.append(fake[:,14])\n",
    "            stall.append(fake[0][18])\n"
   ]
  },
  {
   "cell_type": "code",
   "execution_count": 113,
   "metadata": {},
   "outputs": [
    {
     "name": "stdout",
     "output_type": "stream",
     "text": [
      "10000\n"
     ]
    }
   ],
   "source": [
    "print(len(file_s))"
   ]
  },
  {
   "cell_type": "code",
   "execution_count": 88,
   "metadata": {},
   "outputs": [],
   "source": [
    "def hist_weight(lst):\n",
    "    return np.ones_like(lst)/len(lst)\n",
    "\n",
    "def auto_bin(bin_size, min_edge, max_edge):\n",
    "    # for nice looking bins\n",
    "    N = (max_edge-min_edge)/bin_size; Nplus1 = N + 1\n",
    "    bin_list = np.linspace(min_edge, max_edge, Nplus1)\n",
    "    return bin_list"
   ]
  },
  {
   "cell_type": "code",
   "execution_count": 114,
   "metadata": {},
   "outputs": [
    {
     "name": "stdout",
     "output_type": "stream",
     "text": [
      "0.2756605311648351\n"
     ]
    },
    {
     "name": "stderr",
     "output_type": "stream",
     "text": [
      "/anaconda3/lib/python3.6/site-packages/ipykernel_launcher.py:7: DeprecationWarning: object of type <class 'float'> cannot be safely interpreted as an integer.\n",
      "  import sys\n"
     ]
    }
   ],
   "source": [
    "hist_bin = auto_bin(.2, .1, 4)\n",
    "print(gal_z[1][0])"
   ]
  },
  {
   "cell_type": "code",
   "execution_count": 115,
   "metadata": {},
   "outputs": [],
   "source": [
    "no_of_skies = len(file_s)\n",
    "#CHANGE BACK TO 50\n",
    "ran_z = np.random.choice(gal_z, 50, replace=False) # choose a sample of 50 random galaxies"
   ]
  },
  {
   "cell_type": "code",
   "execution_count": 116,
   "metadata": {},
   "outputs": [
    {
     "data": {
      "text/plain": [
       "50"
      ]
     },
     "execution_count": 116,
     "metadata": {},
     "output_type": "execute_result"
    }
   ],
   "source": [
    "len(ran_z)"
   ]
  },
  {
   "cell_type": "code",
   "execution_count": 117,
   "metadata": {},
   "outputs": [
    {
     "data": {
      "image/png": "[encoded data removed]",
      "text/plain": [
       "<Figure size 244.354x151.019 with 1 Axes>"
      ]
     },
     "metadata": {
      "image/png": {
       "height": 145,
       "width": 239
      }
     },
     "output_type": "display_data"
    }
   ],
   "source": [
    "test = []\n",
    "for i in range(len(ran_z)):\n",
    "    test.append(plt.hist(ran_z[i], hist_bin, weights = hist_weight(ran_z[i])))\n",
    "plt.ylabel(\"Count\")\n",
    "plt.xlabel(\"redshift $z$ of galaxy-galaxy merger\")  \n",
    "plt.tight_layout()\n",
    "plt.savefig(\"plots_sigma_87/step_2/87_redshift_kh13.pdf\")\n"
   ]
  },
  {
   "cell_type": "code",
   "execution_count": null,
   "metadata": {
    "scrolled": true
   },
   "outputs": [],
   "source": [
    "\n",
    "no_of_bins = hist_bin.size\n",
    "avg_test = []\n",
    "tMean = []\n",
    "tStd = []\n",
    "\n",
    "for j in range(no_of_bins-1):\n",
    "    for i in range(len(ran_z)):\n",
    "        inst = plt.hist(gal_z[i], hist_bin, weights = hist_weight(gal_z[i]))[0][j]\n",
    "        #print inst, i, j\n",
    "        avg_test.append(inst)\n",
    "    tMean.append(np.mean(avg_test))\n",
    "    tStd.append(np.std(avg_test))\n",
    "    avg_test = []\n",
    "    print (\"Mean value for j is \", tMean[j], j)\n"
   ]
  },
  {
   "cell_type": "code",
   "execution_count": null,
   "metadata": {},
   "outputs": [],
   "source": [
    "ind = avg_test[0][1]"
   ]
  },
  {
   "cell_type": "code",
   "execution_count": null,
   "metadata": {},
   "outputs": [],
   "source": [
    "print ind[0:19]"
   ]
  },
  {
   "cell_type": "code",
   "execution_count": null,
   "metadata": {},
   "outputs": [],
   "source": [
    "print(tMean)\n",
    "print(tStd)"
   ]
  },
  {
   "cell_type": "code",
   "execution_count": 28,
   "metadata": {},
   "outputs": [],
   "source": [
    "hist_bin = hist_bin[:-1]"
   ]
  },
  {
   "cell_type": "code",
   "execution_count": null,
   "metadata": {},
   "outputs": [],
   "source": [
    "fig, ax = plt.subplots()\n",
    "ax.bar(hist_bin, tMean, yerr=tStd,edgecolor = 'black', width = 0.2, alpha = 0.8)\n",
    "plt.xlim(0,4)\n",
    "plt.ylim(0,.8)\n",
    "majorLocator = MultipleLocator(.3)\n",
    "#minorLocator = MultipleLocator(5)\n",
    "#ax.xaxis.set_minor_locator(minorLocator)\n",
    "ax.xaxis.set_major_locator(majorLocator)\n",
    "#ax.set_xticks(np.around(ind[0:19],1))\n",
    "#for tick in ax.xaxis.get_major_ticks():\n",
    "#    tick.label1.set_horizontalalignment('center')\n",
    "#    tick.label.set_fontsize(6) \n",
    "plt.ylabel(\"Probability\")\n",
    "plt.xlabel(\"Redshift $z$ of galaxy-galaxy merger\")\n",
    "plt.tight_layout()\n",
    "\n",
    "plt.savefig(\"plots_sigma_58/step_2/58_redshift_avg_kh13_sig.pdf\")"
   ]
  },
  {
   "cell_type": "code",
   "execution_count": 50,
   "metadata": {},
   "outputs": [
    {
     "data": {
      "text/plain": [
       "2.0"
      ]
     },
     "execution_count": 50,
     "metadata": {},
     "output_type": "execute_result"
    }
   ],
   "source": [
    "max(stall)"
   ]
  },
  {
   "cell_type": "code",
   "execution_count": 118,
   "metadata": {},
   "outputs": [],
   "source": [
    "weightsSt =  np.ones_like(stall)/len(stall)"
   ]
  },
  {
   "cell_type": "code",
   "execution_count": 119,
   "metadata": {},
   "outputs": [
    {
     "name": "stderr",
     "output_type": "stream",
     "text": [
      "/anaconda3/lib/python3.6/site-packages/ipykernel_launcher.py:3: DeprecationWarning: object of type <class 'numpy.float64'> cannot be safely interpreted as an integer.\n",
      "  This is separate from the ipykernel package so we can avoid doing imports until\n",
      "/anaconda3/lib/python3.6/site-packages/ipykernel_launcher.py:9: MatplotlibDeprecationWarning: scipy.stats.norm.pdf\n",
      "  if __name__ == '__main__':\n"
     ]
    },
    {
     "name": "stdout",
     "output_type": "stream",
     "text": [
      "82.5811 9.563368799225511\n"
     ]
    },
    {
     "data": {
      "image/png": "[encoded data removed]",
      "text/plain": [
       "<Figure size 244.354x151.019 with 1 Axes>"
      ]
     },
     "metadata": {
      "image/png": {
       "height": 145,
       "width": 239
      }
     },
     "output_type": "display_data"
    }
   ],
   "source": [
    "bin_size = 1; min_edge = 0; max_edge = max(stall)\n",
    "N = (max_edge-min_edge)/bin_size; Nplus1 = N + 1\n",
    "bin_list = np.linspace(min_edge, max_edge, Nplus1)\n",
    "\n",
    "(mu, sigma) = norm.fit(stall)\n",
    "\n",
    "print(mu, sigma)\n",
    "\n",
    "y = mlab.normpdf(bin_list, mu, sigma)\n",
    "l = plt.plot(bin_list, y, 'r--', linewidth=2)\n",
    "\n",
    "plt.hist(stall, bin_list, weights = weightsSt, alpha =0.8, align='left')\n",
    "plt.ylabel(\"Probability\")\n",
    "plt.xlabel(\"Number of Stalled Binaries per realization\")\n",
    "plt.tight_layout()\n",
    "#plt.xlim(0,20)\n",
    "plt.savefig(\"plots_sigma_87/step_2/87_no_stalled_kh13.pdf\")"
   ]
  },
  {
   "cell_type": "code",
   "execution_count": 53,
   "metadata": {},
   "outputs": [
    {
     "name": "stdout",
     "output_type": "stream",
     "text": [
      "0.011647755798774978 0.11006614243785383\n"
     ]
    }
   ],
   "source": [
    "print(mu, sigma)"
   ]
  },
  {
   "cell_type": "code",
   "execution_count": 120,
   "metadata": {},
   "outputs": [],
   "source": [
    "weightsG = np.ones_like(file_s)/len(file_s)"
   ]
  },
  {
   "cell_type": "code",
   "execution_count": 121,
   "metadata": {},
   "outputs": [
    {
     "data": {
      "text/plain": [
       "24"
      ]
     },
     "execution_count": 121,
     "metadata": {},
     "output_type": "execute_result"
    }
   ],
   "source": [
    "min(file_s)"
   ]
  },
  {
   "cell_type": "code",
   "execution_count": 122,
   "metadata": {},
   "outputs": [
    {
     "name": "stderr",
     "output_type": "stream",
     "text": [
      "/anaconda3/lib/python3.6/site-packages/ipykernel_launcher.py:3: DeprecationWarning: object of type <class 'float'> cannot be safely interpreted as an integer.\n",
      "  This is separate from the ipykernel package so we can avoid doing imports until\n",
      "/anaconda3/lib/python3.6/site-packages/ipykernel_launcher.py:10: MatplotlibDeprecationWarning: scipy.stats.norm.pdf\n",
      "  # Remove the CWD from sys.path while we load stuff.\n"
     ]
    },
    {
     "name": "stdout",
     "output_type": "stream",
     "text": [
      "67.292 18.608388860941186\n"
     ]
    },
    {
     "data": {
      "image/png": "[encoded data removed]",
      "text/plain": [
       "<Figure size 244.354x151.019 with 1 Axes>"
      ]
     },
     "metadata": {
      "image/png": {
       "height": 145,
       "width": 242
      }
     },
     "output_type": "display_data"
    }
   ],
   "source": [
    "bin_size = 1; min_edge = min(file_s); max_edge = max(file_s)\n",
    "N = (max_edge-min_edge)/bin_size; Nplus1 = N + 1\n",
    "bin_list = np.linspace(min_edge, max_edge, Nplus1)\n",
    "\n",
    "(mu, sigma) = norm.fit(file_s)\n",
    "print(mu, sigma)\n",
    "\n",
    "\n",
    "\n",
    "y = mlab.normpdf(bin_list, mu, sigma)\n",
    "l = plt.plot(bin_list, y, 'r--', linewidth=2)\n",
    "plt.hist(file_s, bin_list, weights = weightsG, alpha =0.8, align='left')\n",
    "\n",
    "plt.ylabel(\"Probability\")\n",
    "plt.xlabel(\"Number of Sources Binaries per realization\")\n",
    "plt.tight_layout()\n",
    "\n",
    "plt.savefig(\"plots_sigma_87/step_2/87_no_sources_kh13.pdf\")"
   ]
  },
  {
   "cell_type": "code",
   "execution_count": null,
   "metadata": {},
   "outputs": [],
   "source": [
    "mu, sigma"
   ]
  },
  {
   "cell_type": "code",
   "execution_count": null,
   "metadata": {},
   "outputs": [],
   "source": [
    "print(stall)\n",
    "print(files_s)"
   ]
  },
  {
   "cell_type": "code",
   "execution_count": null,
   "metadata": {},
   "outputs": [],
   "source": [
    "# File contents are the following:\n",
    "#RA_tot, DEC_tot, gw_freq_vec, strain_vec, mchirp_rec,q_rec, gal_cat_name, dist_list, mstar_list, \n",
    "#save_p, gal_choice, T_z_list, mergRate_list, t2c_list, z_list, r_inf_list, friction_list, \n",
    "#hardening_list, num_zeros"
   ]
  },
  {
   "cell_type": "code",
   "execution_count": null,
   "metadata": {
    "scrolled": false
   },
   "outputs": [],
   "source": [
    "no_of_skies = len(files)\n",
    "\n",
    "for jj in range(no_of_skies):\n",
    "    filename = files[jj]\n",
    "    \n",
    "    sim_sky = np.genfromtxt(\"../../rusty_data/KH13_Reg_Sigma/\"+str(filename))\n",
    "    #sim_sky = np.genfromtxt(\"../../rusty_data/KH13_Reg_Sigma/29dex/\"+str(filename))\n",
    "\n",
    "\n",
    "    \n",
    "    RA = sim_sky[:,0] #phi, add pi to this for healpix maps\n",
    "    DEC = sim_sky[:,1] #theta\n",
    "    freq = sim_sky[:,2]\n",
    "    strain = sim_sky[:,3]\n",
    "    mchirp_rec = sim_sky[:,4]\n",
    "    q_rec = sim_sky[:,5]\n",
    "    \n",
    "    gal_cat_name = np.genfromtxt(\"../../rusty_data/KH13_Reg_Sigma/\"+str(filename), usecols = 6, dtype='S13')\n",
    "    #gal_cat_name = np.genfromtxt(\"../../rusty_data/KH13_Reg_Sigma/29dex/\"+str(filename), usecols = 6, dtype='S13')\n",
    "\n",
    "\n",
    "    dist_list = sim_sky[:,7]\n",
    "    mstar_list = sim_sky[:,8]\n",
    "    save_p = sim_sky[:,9]\n",
    "    gal_choice = sim_sky[:,10] \n",
    "    T_z_list = sim_sky[:,11] \n",
    "    mergRate_list =sim_sky[:,12] \n",
    "    t2c_list = sim_sky[:,13] \n",
    "    z_list = sim_sky[:,14] \n",
    "    file_size = strain.size # number of galaxies in file\n",
    "\n",
    "    for ii in range(file_size):\n",
    "        look_up_freq = find_nearest(freq_choice, freq[ii]) # what is the closest GW freq (out of 87)?\n",
    "        healpix_map = hp.read_map('../../healpix_maps/strain_map_freq_'+str(look_up_freq)+'Hz.fits')\n",
    "        pixNo = hp.pixelfunc.ang2pix(nside, pi/2-DEC[ii], pi+RA[ii]) # ± angles for correct display in healpix\n",
    "        pixStrain = healpix_map[pixNo]\n",
    "        #hp.mollview(healpix_map)\n",
    "        if strain[ii] > pixStrain and strain[ii]>1e-15:\n",
    "            dest_file = \"../../detectedSkies/kh13_sig_detected_skies_01.txt\"    \n",
    "            with open(dest_file, 'a+') as f:\n",
    "                f.write('{0} {1} {2} {3} {4} {5} {6} {7} {8} {9} {10} {11} {12} {13} {14}\\n'.format(RA[ii], \\\n",
    "                DEC[ii], look_up_freq, strain[ii], filename, mchirp_rec[ii],q_rec[ii], dist_list[ii], mstar_list[ii], \\\n",
    "                save_p[ii], gal_choice[ii], T_z_list[ii], mergRate_list[ii], t2c_list[ii], z_list[ii] ))\n",
    "    #print \"Realization \"+str(jj)+\", \"+str((jj/no_of_skies)*100)+\"%\""
   ]
  },
  {
   "cell_type": "code",
   "execution_count": null,
   "metadata": {},
   "outputs": [],
   "source": []
  },
  {
   "cell_type": "code",
   "execution_count": null,
   "metadata": {},
   "outputs": [],
   "source": []
  }
 ],
 "metadata": {
  "kernelspec": {
   "display_name": "Python 3",
   "language": "python",
   "name": "python3"
  },
  "language_info": {
   "codemirror_mode": {
    "name": "ipython",
    "version": 3
   },
   "file_extension": ".py",
   "mimetype": "text/x-python",
   "name": "python",
   "nbconvert_exporter": "python",
   "pygments_lexer": "ipython3",
   "version": "3.6.5"
  }
 },
 "nbformat": 4,
 "nbformat_minor": 1
}
