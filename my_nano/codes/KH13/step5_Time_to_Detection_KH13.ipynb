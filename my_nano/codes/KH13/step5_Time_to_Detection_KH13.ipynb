{
 "cells": [
  {
   "cell_type": "markdown",
   "metadata": {},
   "source": [
    "# Map detected galaxies after 15, 20, 25 years"
   ]
  },
  {
   "cell_type": "markdown",
   "metadata": {},
   "source": [
    "###  Chiara Mingarelli,  mingarelli@gmail.com, simulation curves from J. A. Ellis"
   ]
  },
  {
   "cell_type": "code",
   "execution_count": 1,
   "metadata": {},
   "outputs": [],
   "source": [
    "#!/usr/bin/env python\n",
    "from __future__ import division\n",
    "import sys, os\n",
    "import math\n",
    "import numpy as np\n",
    "import matplotlib.pyplot as plt\n",
    "from math import pi, cos, sin, log10\n",
    "import healpy as hp\n",
    "import plot_mpl2\n",
    "import collections\n",
    "from matplotlib.ticker import FormatStrFormatter, LinearLocator, NullFormatter, NullLocator, MultipleLocator\n",
    "\n",
    "%matplotlib inline\n",
    "%config InlineBackend.figure_format = \"retina\""
   ]
  },
  {
   "cell_type": "code",
   "execution_count": null,
   "metadata": {},
   "outputs": [],
   "source": []
  },
  {
   "cell_type": "code",
   "execution_count": 2,
   "metadata": {},
   "outputs": [],
   "source": [
    "# simulated CW curves (white noise)\n",
    "sim1a = np.loadtxt(\"../../detection_curves/cw_simulation_Ared_0_dp_0.95_fap_0.05_T_15.txt\") # 2sigma, DP=0.95, 15 yrs\n",
    "sim2b = np.loadtxt(\"../../detection_curves/cw_simulation_Ared_0_dp_0.95_fap_0.05_T_20.txt\") # 2sigma, DP=0.95, 20 yrs\n",
    "sim3c = np.loadtxt(\"../../detection_curves/cw_simulation_Ared_0_dp_0.95_fap_0.05_T_25.txt\") # 2sigma, DP=0.95, 25 yrs\n",
    "\n",
    "sim1d = np.loadtxt(\"../../detection_curves/cw_simulation_Ared_0_dp_0.95_fap_0.003_T_15.txt\") # 3sigma, DP=0.95, 15 yrs\n",
    "sim2e = np.loadtxt(\"../../detection_curves/cw_simulation_Ared_0_dp_0.95_fap_0.003_T_20.txt\") # 3sigma, DP=0.95, 20 yrs\n",
    "sim3f = np.loadtxt(\"../../detection_curves/cw_simulation_Ared_0_dp_0.95_fap_0.003_T_25.txt\") # 3sigma, DP=0.95, 25 yrs\n",
    "\n",
    "sim1g = np.loadtxt(\"../../detection_curves/cw_simulation_Ared_0_dp_0.95_fap_0.0001_T_15.txt\") # 1e-4, DP=0.95, 15 yrs\n",
    "sim2h = np.loadtxt(\"../../detection_curves/cw_simulation_Ared_0_dp_0.95_fap_0.0001_T_20.txt\") # 1e-4, DP=0.95, 20 yrs\n",
    "sim3i = np.loadtxt(\"../../detection_curves/cw_simulation_Ared_0_dp_0.95_fap_0.0001_T_25.txt\") # 1e-4, DP=0.95, 25 yrs"
   ]
  },
  {
   "cell_type": "code",
   "execution_count": 3,
   "metadata": {},
   "outputs": [],
   "source": [
    "# simulated frequency and strain\n",
    "simStrain1 = sim1a[:,1] # 15 yrs, 0 red noise, 2sigma\n",
    "simFreq1 = sim1a[:,0]\n",
    "simStrain2 = sim2b[:,1] # 20 yrs, 0 red noise, 2sigma\n",
    "simFreq2 = sim2b[:,0]\n",
    "simStrain3 = sim3c[:,1] # 25 yrs, 0 red noise, 2sigma\n",
    "simFreq3 = sim3c[:,0]\n",
    "\n",
    "simStrain4 = sim1d[:,1] # 15 yrs, 0 red noise, 3 sigma\n",
    "simFreq4 = sim1d[:,0]\n",
    "simStrain5 = sim2e[:,1] # 20 yrs, 0 red noise, 3 sigma\n",
    "simFreq5 = sim2e[:,0]\n",
    "simStrain6 = sim3f[:,1] # 25 yrs, 0 red noise, 3 sigma\n",
    "simFreq6 = sim3f[:,0]\n",
    "\n",
    "simStrain7 = sim1g[:,1] # 15 yrs, 0 red noise, 1e-4\n",
    "simFreq7 = sim1g[:,0]\n",
    "simStrain8 = sim2h[:,1] # 20 yrs, 0 red noise, 1e-4\n",
    "simFreq8 = sim2h[:,0]\n",
    "simStrain9 = sim3i[:,1] # 25 yrs, 0 red noise, 1e-4\n",
    "simFreq9 = sim3i[:,0]\n",
    "\n"
   ]
  },
  {
   "cell_type": "code",
   "execution_count": 4,
   "metadata": {},
   "outputs": [],
   "source": [
    "# all realizations\n",
    "files = []\n",
    "\n",
    "for i in os.listdir('../../rusty_data/KH13_Reg/29_dex/'):\n",
    "    if i.endswith('.txt'):\n",
    "        files.append(i)"
   ]
  },
  {
   "cell_type": "code",
   "execution_count": 5,
   "metadata": {},
   "outputs": [
    {
     "data": {
      "text/plain": [
       "115281"
      ]
     },
     "execution_count": 5,
     "metadata": {},
     "output_type": "execute_result"
    }
   ],
   "source": [
    "len(files)"
   ]
  },
  {
   "cell_type": "code",
   "execution_count": 6,
   "metadata": {},
   "outputs": [],
   "source": [
    "# RA_tot, DEC_tot, gw_freq_vec, strain_vec, mchirp_rec, q_rec, gal_cat_name, dist_list, mstar_list, save_p, \n",
    "# gal_choice, T_z_list, mergRate_list, t2c_list, z_list, r_inf_list, friction_list, hardening_list, num_zeros"
   ]
  },
  {
   "cell_type": "code",
   "execution_count": 13,
   "metadata": {},
   "outputs": [],
   "source": [
    "# simulated CW curves (red noise right now)\n",
    "Rsim1a = np.loadtxt(\"../../detection_curves/cw_simulation_Ared_4e-16_dp_0.95_fap_0.05_T_15.txt\") # 2sigma, DP=0.95, 15 yrs\n",
    "Rsim2b = np.loadtxt(\"../../detection_curves/cw_simulation_Ared_4e-16_dp_0.95_fap_0.05_T_20.txt\") # 2sigma, DP=0.95, 20 yrs\n",
    "Rsim3c = np.loadtxt(\"../../detection_curves/cw_simulation_Ared_4e-16_dp_0.95_fap_0.05_T_25.txt\") # 2sigma, DP=0.95, 25 yrs\n",
    "\n",
    "Rsim1d = np.loadtxt(\"../../detection_curves/cw_simulation_Ared_4e-16_dp_0.95_fap_0.003_T_15.txt\") # 3sigma, DP=0.95, 15 yrs\n",
    "Rsim2e = np.loadtxt(\"../../detection_curves/cw_simulation_Ared_4e-16_dp_0.95_fap_0.003_T_20.txt\") # 3sigma, DP=0.95, 20 yrs\n",
    "Rsim3f = np.loadtxt(\"../../detection_curves/cw_simulation_Ared_4e-16_dp_0.95_fap_0.003_T_25.txt\") # 3sigma, DP=0.95, 25 yrs\n",
    "\n",
    "Rsim1g = np.loadtxt(\"../../detection_curves/cw_simulation_Ared_4e-16_dp_0.95_fap_0.0001_T_15.txt\") # 1e-4, DP=0.95, 15 yrs\n",
    "Rsim2h = np.loadtxt(\"../../detection_curves/cw_simulation_Ared_4e-16_dp_0.95_fap_0.0001_T_20.txt\") # 1e-4, DP=0.95, 20 yrs\n",
    "Rsim3i = np.loadtxt(\"../../detection_curves/cw_simulation_Ared_4e-16_dp_0.95_fap_0.0001_T_25.txt\") # 1e-4, DP=0.95, 25 yrs\n",
    "\n",
    "# simulated frequency and strain\n",
    "RsimStrain1 = Rsim1a[:,1] # 15 yrs, 0 red noise, 2sigma\n",
    "RsimFreq1 = Rsim1a[:,0]\n",
    "RsimStrain2 = Rsim2b[:,1] # 20 yrs, 0 red noise, 2sigma\n",
    "RsimFreq2 = Rsim2b[:,0]\n",
    "RsimStrain3 = Rsim3c[:,1] # 25 yrs, 0 red noise, 2sigma\n",
    "RsimFreq3 = Rsim3c[:,0]\n",
    "\n",
    "RsimStrain4 = Rsim1d[:,1] # 15 yrs, 0 red noise, 3 sigma\n",
    "RsimFreq4 = Rsim1d[:,0]\n",
    "RsimStrain5 = Rsim2e[:,1] # 20 yrs, 0 red noise, 3 sigma\n",
    "RsimFreq5 = Rsim2e[:,0]\n",
    "RsimStrain6 = Rsim3f[:,1] # 25 yrs, 0 red noise, 3 sigma\n",
    "RsimFreq6 = Rsim3f[:,0]\n",
    "\n",
    "RsimStrain7 = Rsim1g[:,1] # 15 yrs, 0 red noise, 1e-4\n",
    "RsimFreq7 = Rsim1g[:,0]\n",
    "RsimStrain8 = Rsim2h[:,1] # 20 yrs, 0 red noise, 1e-4\n",
    "RsimFreq8 = Rsim2h[:,0]\n",
    "RsimStrain9 = Rsim3i[:,1] # 25 yrs, 0 red noise, 1e-4\n",
    "RsimFreq9 = Rsim3i[:,0]\n"
   ]
  },
  {
   "cell_type": "code",
   "execution_count": 14,
   "metadata": {},
   "outputs": [
    {
     "name": "stdout",
     "output_type": "stream",
     "text": [
      "241\n",
      "NGC1316\n",
      "KH13_90747.txt\n",
      "5.057486484657516e-14\n"
     ]
    }
   ],
   "source": [
    "#gets data from the final skies\n",
    "final_file = np.genfromtxt(\"../../detectedSkies/final_skies/kh13_mbul_29_final.txt\")\n",
    "final_galname = np.genfromtxt(\"../../detectedSkies/final_skies/kh13_mbul_29_final.txt\", usecols = 0, dtype='str')\n",
    "final_filename = np.genfromtxt(\"../../detectedSkies/final_skies/kh13_mbul_29_final.txt\", usecols = -1, dtype='str')\n",
    "final_size = len(final_file)\n",
    "\n",
    "#finds the loudest source from all the detectable sources from final skies\n",
    "final_strain = final_file[:,6]\n",
    "loudest_index = final_strain.argmax()\n",
    "loudest_galname = final_galname[loudest_index]\n",
    "loudest_filename = str((final_filename[loudest_index])[2:-1])\n",
    "print(loudest_index)\n",
    "print(loudest_galname)\n",
    "print(loudest_filename)\n",
    "print(max(final_strain))"
   ]
  },
  {
   "cell_type": "code",
   "execution_count": 199,
   "metadata": {},
   "outputs": [
    {
     "name": "stdout",
     "output_type": "stream",
     "text": [
      "5.057486484657516e-14\n",
      "5.057486484657516e-14\n"
     ]
    }
   ],
   "source": [
    "print(final_strain[loudest_index])\n",
    "print(np.max(final_strain))"
   ]
  },
  {
   "cell_type": "code",
   "execution_count": 15,
   "metadata": {},
   "outputs": [],
   "source": [
    "\"\"\"ONLY RUN WITH THE LOUDEST\"\"\"\n",
    "# points for one sky\n",
    "\n",
    "allF = []\n",
    "allS = []\n",
    "allMc = []\n",
    "allQ = []\n",
    "allPi = []\n",
    "allLum = []\n",
    "all_name = []\n",
    "allD = []\n",
    "\n",
    "# condensed here for an exmple realization\n",
    "allFile = np.genfromtxt(\"../../rusty_data/KH13_Reg/29_dex/\"+str(loudest_filename), usecols=(2,3,4,5,7,8,9))\n",
    "allF.append(allFile[:,0])\n",
    "allS.append(allFile[:,1])\n",
    "allMc.append(allFile[:,2])\n",
    "allQ.append(allFile[:,3])\n",
    "allD.append(allFile[:,4])\n",
    "allLum.append(allFile[:,5]) \n",
    "allPi.append(allFile[:,6])\n",
    "all_name.append(np.genfromtxt(\"../../rusty_data/KH13_Reg/29_dex/\"+str(loudest_filename), usecols=(6), dtype = \"str\"))"
   ]
  },
  {
   "cell_type": "code",
   "execution_count": null,
   "metadata": {},
   "outputs": [],
   "source": []
  },
  {
   "cell_type": "code",
   "execution_count": null,
   "metadata": {},
   "outputs": [],
   "source": [
    "max(allS[0])\n",
    "i = allS[0].argmax()\n",
    "print(allF[0][i])"
   ]
  },
  {
   "cell_type": "code",
   "execution_count": 6,
   "metadata": {},
   "outputs": [],
   "source": [
    "# all points for detected skies\n",
    "\"\"\"DONT RUN WITH LOUDEST SKY EXAMPLE\"\"\"\n",
    "allF = []\n",
    "allS = []\n",
    "allMc = []\n",
    "allQ = []\n",
    "allPi = []\n",
    "allLum = []\n",
    "all_name = []\n",
    "allD = []\n",
    "\n",
    "for filename in files:\n",
    "    allFile = np.genfromtxt(\"../../rusty_data/KH13_Reg/29_dex/\"+filename, usecols=(2,3,4,5,7,8,9))\n",
    "    if(len(allFile) != 0):\n",
    "        try:\n",
    "            allF.append(allFile[:,0])\n",
    "            allS.append(allFile[:,1])\n",
    "            allMc.append(allFile[:,2])\n",
    "            allQ.append(allFile[:,3])\n",
    "            allD.append(allFile[:,4])\n",
    "            allLum.append(allFile[:,5]) \n",
    "            allPi.append(allFile[:,6])\n",
    "            all_name.append(np.genfromtxt(\"../../rusty_data/KH13_Reg/29_dex/\"+filename, usecols=(6), dtype = \"U9\"))\n",
    "        except Exception as e:\n",
    "            fake = np.zeros((1, 7))\n",
    "            fake[0] = allFile\n",
    "            allF.append(fake[:,0])\n",
    "            allS.append(fake[:,1])\n",
    "            allMc.append(fake[:,2])\n",
    "            allQ.append(fake[:,3])\n",
    "            allD.append(fake[:,4])\n",
    "            allLum.append(fake[:,5]) \n",
    "            allPi.append(fake[:,6])\n",
    "            all_name.append([np.genfromtxt(\"../../rusty_data/KH13_Reg/29_dex/\"+filename, usecols=(6), dtype = \"U9\")])\n",
    "\n",
    "\n"
   ]
  },
  {
   "cell_type": "code",
   "execution_count": 7,
   "metadata": {},
   "outputs": [
    {
     "data": {
      "text/plain": [
       "(115281,)"
      ]
     },
     "execution_count": 7,
     "metadata": {},
     "output_type": "execute_result"
    }
   ],
   "source": [
    "allF = np.array(allF)\n",
    "allF.shape\n",
    "\n",
    "#shoudl print 1 for single sky"
   ]
  },
  {
   "cell_type": "markdown",
   "metadata": {},
   "source": [
    "# Which sources can be detected with simulated IPTA curves?\n"
   ]
  },
  {
   "cell_type": "code",
   "execution_count": null,
   "metadata": {},
   "outputs": [],
   "source": [
    "# Sources above curve?"
   ]
  },
  {
   "cell_type": "code",
   "execution_count": null,
   "metadata": {},
   "outputs": [],
   "source": [
    "def find_nearest(array,value):\n",
    "    # http://stackoverflow.com/questions/2566412/find-nearest-value-in-numpy-array\n",
    "    idx = (np.abs(array-value)).argmin()\n",
    "    return idx #return index of array"
   ]
  },
  {
   "cell_type": "code",
   "execution_count": null,
   "metadata": {},
   "outputs": [],
   "source": [
    "# New sims used below"
   ]
  },
  {
   "cell_type": "code",
   "execution_count": null,
   "metadata": {},
   "outputs": [],
   "source": [
    "# Sources detected the most timesd (\"Hit List\")"
   ]
  },
  {
   "cell_type": "code",
   "execution_count": null,
   "metadata": {},
   "outputs": [],
   "source": [
    "def find_detected_sr(simFreq,simStrain):\n",
    "    iptaDetectedF = []\n",
    "    iptaDetectedS = []\n",
    "    iptaDetectedN = []\n",
    "    iptaDetectedMc = []\n",
    "    iptaDetectedQ = []\n",
    "    iptaDetectedPi = []\n",
    "    iptaDetectedLum = []\n",
    "    iptaDetectedDist = []\n",
    "\n",
    "    for i in range(len(allF)):\n",
    "        for j in range(len(allF[i])):\n",
    "            compareFreq = find_nearest(simFreq, allF[i][j]) # find the closest freq in inteprolated values to source freq, report index\n",
    "            simStrainX = simStrain[compareFreq] # what is the strain of that source?\n",
    "            if allS[i][j] > simStrainX: # can we detect that source?\n",
    "                iptaDetectedF.append(allF[i][j]) # add it to a detected list\n",
    "                iptaDetectedS.append(allS[i][j]) \n",
    "                iptaDetectedN.append(all_name[i][j]) \n",
    "                iptaDetectedMc.append(allMc[i][j]) \n",
    "                iptaDetectedQ.append(allQ[i][j]) \n",
    "                iptaDetectedPi.append(allPi[i][j]) \n",
    "                iptaDetectedLum.append(allLum[i][j]) \n",
    "                iptaDetectedDist.append(allD[i][j])\n",
    "    return iptaDetectedF, iptaDetectedS, iptaDetectedN, iptaDetectedMc, iptaDetectedQ, iptaDetectedPi, iptaDetectedLum, iptaDetectedDist"
   ]
  },
  {
   "cell_type": "code",
   "execution_count": null,
   "metadata": {},
   "outputs": [],
   "source": [
    "#gets name for all detected SMBHB systems emitting gw in PTA  band\n",
    "final_detected = np.genfromtxt(\"../../detectedSkies/final_skies/kh13_mbul_29_final.txt\")\n",
    "name = np.genfromtxt(\"../../detectedSkies/final_skies/kh13_mbul_29_final.txt\", usecols = (0), dtype = \"U9\")\n",
    "strain_vec_all = final_detected[:,6]\n",
    "file_size_all = len(name)\n",
    "\n",
    "print(name)\n",
    "#gets RA and DEC for all detected galaxies from above\n",
    "RA_tot_all = np.zeros(len(name))\n",
    "DEC_tot_all = np.zeros(len(name))\n",
    "freq_all = np.zeros(len(name))\n",
    "\n",
    "\n",
    "files = np.genfromtxt(\"../../detectedSkies/final_skies/kh13_mbul_29_final.txt\", usecols = (-1), dtype = None)\n",
    "\n",
    "for i in range(len(name)):\n",
    "    file_RA = np.genfromtxt(\"../../rusty_data/KH13_Reg/29_dex/\"+str(str(files[i])[4:-2]), usecols = (0))\n",
    "    file_DEC = np.genfromtxt(\"../../rusty_data/KH13_Reg/29_dex/\"+str(str(files[i])[4:-2]), usecols = (1))\n",
    "    file_names = np.genfromtxt(\"../../rusty_data/KH13_Reg/29_dex/\"+str(str(files[i])[4:-2]), usecols = (6), dtype = \"U9\")\n",
    "    file_freq = np.genfromtxt(\"../../rusty_data/KH13_Reg/29_dex/\"+str(str(files[i])[4:-2]), usecols = (2))\n",
    "    file_strain = np.genfromtxt(\"../../rusty_data/KH13_Reg/29_dex/\"+str(str(files[i])[4:-2]), usecols = (3))\n",
    "\n",
    "\n",
    "    #find index of detectable galaxy\n",
    "    gal_ind = np.where(file_names == name[i])[0][0]\n",
    "    \n",
    "    RA_tot_all[i] = file_RA[gal_ind]\n",
    "    DEC_tot_all[i] = file_DEC[gal_ind]  \n",
    "    freq_all = file_freq[gal_ind]\n",
    "    \n",
    "    "
   ]
  },
  {
   "cell_type": "code",
   "execution_count": null,
   "metadata": {},
   "outputs": [],
   "source": [
    "# 15 yrs white noise,  2 sigma\n",
    "iptaDetectedF, iptaDetectedS, iptaDetectedN, iptaDetectedMc, iptaDetectedQ, iptaDetectedPi, iptaDetectedLum, \\\n",
    "iptaDetectedDist = find_detected_sr(simFreq1,simStrain1)\n",
    "\n",
    "# 15 yrs white noise,  3 sigma\n",
    "iptaDetectedF4, iptaDetectedS4, iptaDetectedN4, iptaDetectedMc4, iptaDetectedQ4, iptaDetectedPi4, iptaDetectedLum4, \\\n",
    "iptaDetectedDist4 = find_detected_sr(simFreq4,simStrain4)\n",
    "            \n",
    "# 15 yrs white noise, 1e-4 sigma\n",
    "iptaDetectedF7, iptaDetectedS7, iptaDetectedN7, iptaDetectedMc7, iptaDetectedQ7, iptaDetectedPi7, iptaDetectedLum7, \\\n",
    "iptaDetectedDist7 = find_detected_sr(simFreq7,simStrain7)"
   ]
  },
  {
   "cell_type": "code",
   "execution_count": null,
   "metadata": {},
   "outputs": [],
   "source": [
    "# 20 yrs white noise, 2 sigma\n",
    "iptaDetectedF2, iptaDetectedS2, iptaDetectedN2, iptaDetectedMc2, iptaDetectedQ2, iptaDetectedPi2, iptaDetectedLum2, \\\n",
    "iptaDetectedDist2 = find_detected_sr(simFreq2,simStrain2)\n",
    "                        \n",
    "# 20 yrs white noise, 3 sigma\n",
    "iptaDetectedF5, iptaDetectedS5, iptaDetectedN5, iptaDetectedMc5, iptaDetectedQ5, iptaDetectedPi5, iptaDetectedLum5, \\\n",
    "iptaDetectedDist5 = find_detected_sr(simFreq5,simStrain5)\n",
    "        \n",
    "# 20 yrs white noise, 1e-4 sigma\n",
    "iptaDetectedF8, iptaDetectedS8, iptaDetectedN8, iptaDetectedMc8, iptaDetectedQ8, iptaDetectedPi8, iptaDetectedLum8, \\\n",
    "iptaDetectedDist8 = find_detected_sr(simFreq8,simStrain8)"
   ]
  },
  {
   "cell_type": "code",
   "execution_count": null,
   "metadata": {},
   "outputs": [],
   "source": [
    "# 25 yrs white noise, 2 sigma\n",
    "iptaDetectedF3, iptaDetectedS3, iptaDetectedN3, iptaDetectedMc3, iptaDetectedQ3, iptaDetectedPi3, iptaDetectedLum3, \\\n",
    "iptaDetectedDist3 = find_detected_sr(simFreq3,simStrain3)\n",
    "        \n",
    "# 25 yrs white noise, 3 sigma\n",
    "iptaDetectedF6, iptaDetectedS6, iptaDetectedN6, iptaDetectedMc6, iptaDetectedQ6, iptaDetectedPi6, iptaDetectedLum6, \\\n",
    "iptaDetectedDist6 = find_detected_sr(simFreq6,simStrain6)\n",
    "            \n",
    "# 25 yrs white noise, 1e-4 sigma\n",
    "iptaDetectedF9, iptaDetectedS9, iptaDetectedN9, iptaDetectedMc9, iptaDetectedQ9, iptaDetectedPi9, iptaDetectedLum9, \\\n",
    "iptaDetectedDist9 = find_detected_sr(simFreq9,simStrain9)\n"
   ]
  },
  {
   "cell_type": "code",
   "execution_count": 201,
   "metadata": {},
   "outputs": [],
   "source": [
    "# 25 yrs white noise, 3 sigma\n",
    "iptaDetectedF6, iptaDetectedS6, iptaDetectedN6, iptaDetectedMc6, iptaDetectedQ6, iptaDetectedPi6, iptaDetectedLum6, \\\n",
    "iptaDetectedDist6 = find_detected_sr(simFreq6,simStrain6)"
   ]
  },
  {
   "cell_type": "code",
   "execution_count": null,
   "metadata": {},
   "outputs": [],
   "source": [
    "# 25 yrs RED noise, 3 sigma\n",
    "RiptaDetectedF6, RiptaDetectedS6, RiptaDetectedN6, RiptaDetectedMc6, RiptaDetectedQ6, RiptaDetectedPi6, RiptaDetectedLum6, \\\n",
    "RiptaDetectedDist6 = find_detected_sr(RsimFreq6,RsimStrain6)"
   ]
  },
  {
   "cell_type": "code",
   "execution_count": null,
   "metadata": {},
   "outputs": [],
   "source": [
    "RiptaDetectedF1, RiptaDetectedS1, RiptaDetectedN1, RiptaDetectedMc1, RiptaDetectedQ1, RiptaDetectedPi1, RiptaDetectedLum1, \\\n",
    "RiptaDetectedDist1 = find_detected_sr(RsimFreq1,RsimStrain1)"
   ]
  },
  {
   "cell_type": "code",
   "execution_count": null,
   "metadata": {},
   "outputs": [],
   "source": [
    "RiptaDetectedF2, RiptaDetectedS2, RiptaDetectedN2, RiptaDetectedMc2, RiptaDetectedQ2, RiptaDetectedPi2, RiptaDetectedLum2, \\\n",
    "RiptaDetectedDist2 = find_detected_sr(RsimFreq2,RsimStrain2)"
   ]
  },
  {
   "cell_type": "code",
   "execution_count": null,
   "metadata": {},
   "outputs": [],
   "source": [
    "RiptaDetectedF3, RiptaDetectedS3, RiptaDetectedN3, RiptaDetectedMc3, RiptaDetectedQ3, RiptaDetectedPi3, RiptaDetectedLum3, \\\n",
    "RiptaDetectedDist3 = find_detected_sr(RsimFreq3,RsimStrain3)"
   ]
  },
  {
   "cell_type": "code",
   "execution_count": null,
   "metadata": {},
   "outputs": [],
   "source": [
    "#15 years\n",
    "print(len(iptaDetectedF))\n",
    "print(len(iptaDetectedF4))\n",
    "print(len(iptaDetectedF7))\n",
    "\n",
    "print(\"\")\n",
    "\n",
    "#20 years\n",
    "print(len(iptaDetectedF2))\n",
    "print(len(iptaDetectedF5))\n",
    "print(len(iptaDetectedF8))\n",
    "\n",
    "print(\"\")\n",
    "\n",
    "#25 years\n",
    "print(len(iptaDetectedF3))\n",
    "print(len(iptaDetectedF6))\n",
    "print(len(iptaDetectedF9))\n",
    "\n",
    "print(\"\")\n",
    "\n",
    "#15 years\n",
    "print((len(iptaDetectedF))/len(files))\n",
    "print((len(iptaDetectedF4))/len(files))\n",
    "print((len(iptaDetectedF7))/len(files))\n",
    "\n",
    "print(\"\")\n",
    "\n",
    "#20 years\n",
    "print((len(iptaDetectedF2)) /len(files))\n",
    "print((len(iptaDetectedF5))/len(files))\n",
    "print((len(iptaDetectedF8))/len(files))\n",
    "\n",
    "print(\"\")\n",
    "\n",
    "#25 years\n",
    "print((len(iptaDetectedF3))/len(files))\n",
    "print((len(iptaDetectedF6))/len(files))\n",
    "print((len(iptaDetectedF9))/len(files))"
   ]
  },
  {
   "cell_type": "markdown",
   "metadata": {
    "collapsed": true
   },
   "source": [
    "# PLOTTING AND SORTING LISTS OF GALAXIES"
   ]
  },
  {
   "cell_type": "code",
   "execution_count": null,
   "metadata": {},
   "outputs": [],
   "source": [
    "#Example: How to ask how many times a galaxy was found, with NGC 4486"
   ]
  },
  {
   "cell_type": "code",
   "execution_count": 202,
   "metadata": {},
   "outputs": [],
   "source": [
    "#white noise\n",
    "catalog_list = iptaDetectedN6 #White noise 25 year 3 sigma\n",
    "\n",
    "#red_noise\n",
    "#catalog_list = RiptaDetectedN6 #red noise 25 year 3 sigma"
   ]
  },
  {
   "cell_type": "code",
   "execution_count": 203,
   "metadata": {},
   "outputs": [],
   "source": [
    "histo_data = dict((x, catalog_list.count(x)) for x in catalog_list)\n",
    "d= histo_data\n"
   ]
  },
  {
   "cell_type": "code",
   "execution_count": 204,
   "metadata": {},
   "outputs": [],
   "source": [
    "# try using a sorted list"
   ]
  },
  {
   "cell_type": "code",
   "execution_count": 205,
   "metadata": {},
   "outputs": [],
   "source": [
    "histo_data = sorted(histo_data.items(), key=lambda x:x[1]) # sort histogram by count\n"
   ]
  },
  {
   "cell_type": "code",
   "execution_count": 206,
   "metadata": {},
   "outputs": [],
   "source": [
    "value = np.zeros([len(histo_data)])\n",
    "label = []\n",
    "\n",
    "for j in range(len(histo_data)):\n",
    "    value[j] = histo_data[j][1]\n",
    "    label.append(histo_data[j][0])"
   ]
  },
  {
   "cell_type": "code",
   "execution_count": 207,
   "metadata": {},
   "outputs": [],
   "source": [
    "def find_gal_idx_4val(nameList, val):\n",
    "    ans = [i for i, x in enumerate(nameList) if x >= val]\n",
    "    return ans"
   ]
  },
  {
   "cell_type": "code",
   "execution_count": 208,
   "metadata": {},
   "outputs": [],
   "source": [
    "value = value.tolist()"
   ]
  },
  {
   "cell_type": "code",
   "execution_count": 213,
   "metadata": {},
   "outputs": [],
   "source": [
    "# What is the minimum number of counts we are interested in for plotting?\n",
    "minval = 400\n",
    "goodCounts = find_gal_idx_4val(value, minval)"
   ]
  },
  {
   "cell_type": "code",
   "execution_count": 214,
   "metadata": {},
   "outputs": [
    {
     "data": {
      "text/plain": [
       "[4816, 4817, 4818, 4819, 4820]"
      ]
     },
     "execution_count": 214,
     "metadata": {},
     "output_type": "execute_result"
    }
   ],
   "source": [
    "goodCounts"
   ]
  },
  {
   "cell_type": "code",
   "execution_count": 215,
   "metadata": {},
   "outputs": [],
   "source": [
    "toPlot_val = value[goodCounts[0]:goodCounts[-1]+1]\n",
    "toPlot_name = label[goodCounts[0]:goodCounts[-1]+1]"
   ]
  },
  {
   "cell_type": "code",
   "execution_count": 216,
   "metadata": {},
   "outputs": [
    {
     "data": {
      "text/plain": [
       "['NGC4472', 'NGC3115', 'NGC1399', 'NGC4374', 'NGC4594']"
      ]
     },
     "execution_count": 216,
     "metadata": {},
     "output_type": "execute_result"
    }
   ],
   "source": [
    "toPlot_name "
   ]
  },
  {
   "cell_type": "code",
   "execution_count": 109,
   "metadata": {},
   "outputs": [],
   "source": [
    "# RED NOISE SOURCES"
   ]
  },
  {
   "cell_type": "code",
   "execution_count": 110,
   "metadata": {},
   "outputs": [
    {
     "data": {
      "image/png": "[encoded data removed]",
      "text/plain": [
       "<Figure size 244.354x151.019 with 1 Axes>"
      ]
     },
     "metadata": {
      "image/png": {
       "height": 149,
       "width": 240
      }
     },
     "output_type": "display_data"
    }
   ],
   "source": [
    "X = np.arange(len(toPlot_val))\n",
    "fig = plt.figure()\n",
    "ax = fig.add_subplot(111)\n",
    "ax.barh(X, toPlot_val, alpha=0.8, linewidth = 0.4, color = \"C1\")\n",
    "ax.set_yticks(X)\n",
    "plt.setp(ax.get_yticklabels(), fontsize=7)\n",
    "ax.set_yticklabels(toPlot_name)\n",
    "majorLocator = MultipleLocator(4)\n",
    "minorLocator = MultipleLocator(1)\n",
    "ax.xaxis.set_minor_locator(minorLocator)\n",
    "ax.xaxis.set_major_locator(majorLocator)\n",
    "#plt.xticks(np.arange(0,))\n",
    "plt.xlabel(\"Count\")\n",
    "#plt.title(\"25 year dataset, FAP $3\\sigma$, DP$=95\\%$, Red Noise\")\n",
    "#plt.ylabel(\"Galaxy Name\")\n",
    "plt.tight_layout()\n",
    "plt.savefig(\"plots_sigma_87/step_5/RN_3sigma_kh13_sigma_87.pdf\")"
   ]
  },
  {
   "cell_type": "markdown",
   "metadata": {
    "collapsed": true
   },
   "source": [
    "# PLOTTING FOR WHITE NOISE SOURCES"
   ]
  },
  {
   "cell_type": "code",
   "execution_count": 222,
   "metadata": {},
   "outputs": [
    {
     "data": {
      "image/png": "[encoded data removed]",
      "text/plain": [
       "<Figure size 244.354x151.019 with 1 Axes>"
      ]
     },
     "metadata": {
      "image/png": {
       "height": 149,
       "width": 240
      }
     },
     "output_type": "display_data"
    }
   ],
   "source": [
    "X = np.arange(len(toPlot_val))\n",
    "fig = plt.figure()\n",
    "ax = fig.add_subplot(111)\n",
    "ax.barh(X, toPlot_val, alpha=0.8, linewidth = 0.4, color = \"C0\")\n",
    "ax.set_yticks(X)\n",
    "#plt.setp(ax.get_yticklabels(), fontsize=6)\n",
    "ax.set_yticklabels(toPlot_name)\n",
    "majorLocator = MultipleLocator(450)\n",
    "minorLocator = MultipleLocator(150)\n",
    "ax.xaxis.set_minor_locator(minorLocator)\n",
    "ax.xaxis.set_major_locator(majorLocator)\n",
    "#plt.xticks(np.arange(0,))\n",
    "plt.xlabel(\"Count\")\n",
    "#plt.title(\"25 year dataset, FAP $3\\sigma$, DP$=95\\%$, White Noise\")\n",
    "#plt.ylabel(\"Galaxy Name\")\n",
    "plt.tight_layout()\n",
    "plt.savefig(\"plots_bul_29/step_5/WN_3sigma_kh13_sigma_29_ppt.pdf\")\n"
   ]
  },
  {
   "cell_type": "code",
   "execution_count": 16,
   "metadata": {},
   "outputs": [],
   "source": [
    "# plotting preamble (credit J. Ellis)\n",
    "\n",
    "fig_width_pt = 245.27 #513.17           # Get this from LaTeX using \\showthe\\columnwidth\n",
    "inches_per_pt = 1.0/72.27               # Convert pt to inches\n",
    "golden_mean = (np.sqrt(5)-1.0)/2.0      # Aesthetic ratio\n",
    "fig_width = fig_width_pt*inches_per_pt  # width in inches\n",
    "fig_height =fig_width*golden_mean       # height in inches\n",
    "fig_size = [fig_width,fig_height]\n",
    "\n",
    "params = {'backend': 'pdf',\n",
    "        'axes.labelsize': 7,\n",
    "        'lines.markersize': 2,\n",
    "        'font.size': 7,\n",
    "        'xtick.major.size':6,\n",
    "        'xtick.minor.size':3,  \n",
    "        'ytick.major.size':6,\n",
    "        'ytick.minor.size':3, \n",
    "        'xtick.major.width':0.5,\n",
    "        'ytick.major.width':0.5,\n",
    "        'xtick.minor.width':0.5,\n",
    "        'ytick.minor.width':0.5,\n",
    "        'lines.markeredgewidth':1,\n",
    "        'axes.linewidth':1.0,\n",
    "        'legend.fontsize': 7,\n",
    "        'xtick.labelsize': 7,\n",
    "        'ytick.labelsize': 7,\n",
    "        'savefig.dpi':200,\n",
    "        'path.simplify':True,\n",
    "        'font.serif':'Times',\n",
    "        'text.latex.preamble': [r'\\usepackage{amsmath}'],\n",
    "        'text.usetex':True,\n",
    "        #'axes.color_cycle': ['b', 'lime', 'r', 'purple', 'g', 'c', 'm', 'orange', 'darkblue', \\\n",
    "        #                        'darkcyan', 'y','orangered','chartreuse','brown','deeppink','lightgreen', 'k'],\n",
    "        #'font.serif':cm,\n",
    "        'figure.figsize': fig_size}\n",
    "plt.rcParams.update(params)"
   ]
  },
  {
   "cell_type": "code",
   "execution_count": 17,
   "metadata": {},
   "outputs": [],
   "source": [
    "def hist_weight(lst):\n",
    "    return np.ones_like(lst)/len(lst)\n",
    "\n",
    "def auto_bin(bin_size, min_edge, max_edge):\n",
    "    # for nice looking bins\n",
    "    N = (max_edge-min_edge)/bin_size; Nplus1 = N + 1\n",
    "    bin_list = np.linspace(min_edge, max_edge, Nplus1)\n",
    "    return bin_list"
   ]
  },
  {
   "cell_type": "code",
   "execution_count": 4,
   "metadata": {},
   "outputs": [
    {
     "name": "stderr",
     "output_type": "stream",
     "text": [
      "/anaconda3/lib/python3.6/site-packages/ipykernel_launcher.py:2: VisibleDeprecationWarning: Reading unicode strings without specifying the encoding argument is deprecated. Set the encoding, use None for the system default.\n",
      "  \n"
     ]
    }
   ],
   "source": [
    "# detected sky realizations\n",
    "sky_file = np.genfromtxt(\"../../detectedSkies/final_skies/kh13_mbul_29_final.txt\",dtype=None)"
   ]
  },
  {
   "cell_type": "code",
   "execution_count": 5,
   "metadata": {},
   "outputs": [
    {
     "name": "stdout",
     "output_type": "stream",
     "text": [
      "352\n"
     ]
    }
   ],
   "source": [
    "detF = []\n",
    "detS = []\n",
    "for ii in range(len(sky_file)):\n",
    "    detF.append(sky_file[ii][5])\n",
    "    detS.append(sky_file[ii][6])\n",
    "print(len(detS))"
   ]
  },
  {
   "cell_type": "code",
   "execution_count": 6,
   "metadata": {},
   "outputs": [],
   "source": [
    "# read in sensitivity curve. This is an upper limit curve, not a detection curve, needs to be updated\n",
    "dataSB_W = np.genfromtxt(\"../SensWhole.dat\",skip_header=1)#, dtype=float, sep=\"  \")"
   ]
  },
  {
   "cell_type": "code",
   "execution_count": 18,
   "metadata": {},
   "outputs": [],
   "source": [
    "newF = []\n",
    "newS = []\n",
    "newMc = []"
   ]
  },
  {
   "cell_type": "code",
   "execution_count": 19,
   "metadata": {},
   "outputs": [],
   "source": [
    "for j in range(len(allF)):\n",
    "    newF.append(allF[j])\n",
    "    newS.append(allS[j])\n",
    "    newMc.append(allMc[j])"
   ]
  },
  {
   "cell_type": "code",
   "execution_count": 20,
   "metadata": {},
   "outputs": [],
   "source": [
    "flatF = [item for sublist in newF for item in sublist]\n",
    "flatS = [item for sublist in newS for item in sublist]\n",
    "flatMc = [item for sublist in newMc for item in sublist]"
   ]
  },
  {
   "cell_type": "code",
   "execution_count": 22,
   "metadata": {},
   "outputs": [
    {
     "name": "stdout",
     "output_type": "stream",
     "text": [
      "[2.4762890971935963e-09, 1.0951501970559275e-09, 1.41257006987e-09, 4.9917843412476475e-09, 1.5021478571417893e-09, 3.413273235707184e-09, 3.15564824857284e-09, 1.4412487717823718e-09, 1.5551052425667004e-09, 3.289641160902164e-09, 1.506340484501666e-09, 1.1014739036587116e-09, 1.7135007568108558e-09, 1.485788735696279e-09]\n"
     ]
    }
   ],
   "source": [
    "for i in range(len(flatF)):\n",
    "    if flatF[i] < min(simFreq8):\n",
    "        flatF[i] = 1.41257006987e-09\n",
    "print(flatF)"
   ]
  },
  {
   "cell_type": "markdown",
   "metadata": {},
   "source": [
    "# Comment and uncomment to make different FAP curves"
   ]
  },
  {
   "cell_type": "code",
   "execution_count": 25,
   "metadata": {},
   "outputs": [
    {
     "data": {
      "image/png": "[encoded data removed]",
      "text/plain": [
       "<Figure size 244.354x151.019 with 1 Axes>"
      ]
     },
     "metadata": {
      "image/png": {
       "height": 148,
       "width": 240
      }
     },
     "output_type": "display_data"
    }
   ],
   "source": [
    "fig = plt.figure()\n",
    "ax = plt.subplot(111)\n",
    "\n",
    "plt.scatter(flatF, flatS, edgecolors='none', color='C0', alpha=0.8, s=10, rasterized=True, label = \"KH13\") #skies\n",
    "#plt.scatter(detF, detS, edgecolors='none', color='C0', alpha=0.8, s=9, rasterized=True, label = \"KH13\") #skies\n",
    "#plt.scatter(loudF, loudS, edgecolors='none', color='C3', alpha=0.8, s=10, rasterized=True) #skies\n",
    "#plt.scatter(3.339870274455976e-10,5.057486484657516e-14, color = \"C2\")\n",
    "\n",
    "\n",
    "#plt.loglog(dataSB_W[:,0], dataSB_W[:, 1], color ='black') #sensitivity\n",
    "#plt.loglog(dataSB_W[:,0], dataSB_W[:, 1], color ='black', label = 'Current EPTA') #sensitivity\n",
    "# EPTA is really 7-18 yrs baselines up to 2014; Desvignes et al 2016\n",
    "\n",
    "#plt.loglog(RsimFreq1,RsimStrain1,  label='15 yrs', lw = 1, linestyle = \":\", color = 'C0',alpha = 0.8)#2sigma\n",
    "#plt.loglog(simFreq4,simStrain4,  label='15 yrs', lw = 1, linestyle = \":\", color = 'C0', alpha = 0.8)\n",
    "plt.loglog(simFreq7,simStrain7,  label='now', lw = 1, linestyle = \":\", color = 'C0', alpha = 0.8)\n",
    "\n",
    "\n",
    "#plt.loglog(RsimFreq2,RsimStrain2,  label='20 yrs', lw = 1, linestyle = \"--\", color = 'C3',alpha = 0.8)#2sigma\n",
    "#plt.loglog(simFreq5,simStrain5,  label='20 yrs', lw = 1, linestyle = \"--\", color = 'C3', alpha = 0.8)\n",
    "plt.loglog(simFreq8,simStrain8,  label='5 yrs', lw = 1, linestyle = \"--\", color = 'C3', alpha = 0.8)\n",
    "\n",
    "#plt.loglog(RsimFreq3,RsimStrain3,  label='25 yrs', lw = 1, linestyle = \"-\",  color = 'black',alpha = 0.8) #2sigma\n",
    "#plt.loglog(simFreq6,simStrain6,  label='25 yrs', lw = 1, linestyle = \"-\", color = 'black', alpha = 0.8)\n",
    "plt.loglog(simFreq9,simStrain9,  label='10 yrs', lw = 1, linestyle = \"-\", color = 'black', alpha = 0.8) #1e-4\n",
    "\n",
    "\n",
    "plt.xlim(1e-9,3e-7)\n",
    "plt.ylim(1e-18, 5e-12)\n",
    "plt.xlabel(\"Gravitational Wave Frequency [Hz]\", size = \"10\")\n",
    "plt.ylabel(\"Strain\", size = \"10\")\n",
    "plt.tight_layout() \n",
    "ax.legend(frameon = False, loc = \"lower right\")\n",
    "#plt.title(\"KH13: Time to Detection\")\n",
    "plt.legend(frameon=False,loc=4)\n",
    "#plt.savefig(\"plots_kh13_29/step_5/detetcion_probability_kh13_29.pdf\")\n",
    "plt.savefig(\"plots_bul_29/step_5/loudest_sky_detetcion_probability_bul_29_w_color_ppt_2.pdf\")\n",
    "\n",
    "\n",
    "\n",
    "#color = '#1f77b4' (blue) , '#ff7f0e' (orange), '#2ca02c' (green), '#d62728' (red), #9467bd (purple)"
   ]
  },
  {
   "cell_type": "code",
   "execution_count": null,
   "metadata": {},
   "outputs": [],
   "source": [
    "\"\"\"Count how many are above the  epta line\"\"\"\n",
    "count = 0\n",
    "epta_strain = dataSB_W[:,1]\n",
    "epta_freq = dataSB_W[:,0]\n",
    "\n",
    "def find_nearest(array,value):\n",
    "    # http://stackoverflow.com/questions/2566412/find-nearest-value-in-numpy-array#\n",
    "    idx = (np.abs(array-value)).argmin()\n",
    "    return idx #return index of array\n",
    "\n",
    "for i in range(len(detS)):\n",
    "    ind = find_nearest(epta_freq, detF[i])\n",
    "    if S[i] > epta_strain[ind]:\n",
    "        count+=1\n",
    "        \n",
    "#printed number is the number of sources ABOVE the epta strain line\n",
    "print(count)\n"
   ]
  },
  {
   "cell_type": "code",
   "execution_count": 165,
   "metadata": {},
   "outputs": [],
   "source": [
    "\"\"\"get chirp mass for all points above the curve lines\"\"\"\n",
    "strain_15 = simStrain7\n",
    "freq_15 = simFreq7\n",
    "\n",
    "strain_20 = simStrain8\n",
    "freq_20 = simFreq8\n",
    "\n",
    "strain_25 = simStrain9\n",
    "freq_25 = simFreq9\n",
    "\n",
    "mc_above = []\n",
    "\n",
    "\n",
    "def find_nearest(array,value):\n",
    "    idx = (np.abs(array-value)).argmin()\n",
    "    return idx #return index of array\n",
    "\n",
    "for i in range(len(flatS)):\n",
    "    ind = find_nearest(freq_15, flatF[i])\n",
    "    if flatS[i] > strain_15[ind]:\n",
    "        mc_above.append(flatMc[i])\n"
   ]
  },
  {
   "cell_type": "code",
   "execution_count": 166,
   "metadata": {},
   "outputs": [],
   "source": [
    "\n",
    "log_mc = np.log10(mc_above)"
   ]
  },
  {
   "cell_type": "code",
   "execution_count": 167,
   "metadata": {},
   "outputs": [
    {
     "name": "stderr",
     "output_type": "stream",
     "text": [
      "/anaconda3/lib/python3.6/site-packages/ipykernel_launcher.py:19: DeprecationWarning: object of type <class 'float'> cannot be safely interpreted as an integer.\n"
     ]
    },
    {
     "data": {
      "image/png": "[encoded data removed]",
      "text/plain": [
       "<Figure size 244.354x151.019 with 1 Axes>"
      ]
     },
     "metadata": {
      "image/png": {
       "height": 159,
       "width": 251
      }
     },
     "output_type": "display_data"
    }
   ],
   "source": [
    "bin_list = auto_bin(0.1,7,12)\n",
    "\n",
    "weights_mc = hist_weight(log_mc)\n",
    "plt.hist(log_mc, bin_list, weights = weights_mc, alpha = 0.8, align='left', edgecolor = 'black', label = \"15 years\")\n",
    "\n",
    "plt.legend(frameon=False)\n",
    "plt.tight_layout()\n",
    "\n",
    "plt.xlabel(\"$log10$ Chirp Mass\")\n",
    "plt.ylabel(\"Probability\")\n",
    "plt.savefig(\"plots_bul_29/step_5/above_mc_distribution_bul_29.pdf\")\n",
    "\n"
   ]
  },
  {
   "cell_type": "code",
   "execution_count": null,
   "metadata": {},
   "outputs": [],
   "source": [
    "print(detS,dataSB_W[:, 1] )"
   ]
  },
  {
   "cell_type": "markdown",
   "metadata": {},
   "source": [
    "# Histograms for 25 yr detected skies"
   ]
  },
  {
   "cell_type": "code",
   "execution_count": null,
   "metadata": {},
   "outputs": [],
   "source": [
    "def find_gal_idx(nameList, name):\n",
    "    ans = [i for i, x in enumerate(nameList) if x == name]\n",
    "    return ans\n",
    "\n",
    "def find_gal_dec_idx(nameList, dec):\n",
    "    ans = [i for i, x in enumerate(nameList) if x >= dec]\n",
    "    return ans\n",
    "\n",
    "def find_gal_dec_idx_neg(nameList, dec):\n",
    "    ans = [i for i, x in enumerate(nameList) if x <= dec]\n",
    "    return ans\n",
    "\n",
    "def hist_weight(lst):\n",
    "    return np.ones_like(lst)/len(lst)\n",
    "\n",
    "def auto_bin(bin_size, min_edge, max_edge):\n",
    "    #bin_size = 0.05; min_edge = -3.5; max_edge = -1\n",
    "    N = (max_edge-min_edge)/bin_size; Nplus1 = N + 1\n",
    "    bin_list = np.linspace(min_edge, max_edge, Nplus1)\n",
    "    return bin_list"
   ]
  },
  {
   "cell_type": "code",
   "execution_count": null,
   "metadata": {},
   "outputs": [],
   "source": [
    "#iptaDetectedF9, iptaDetectedS9, iptaDetectedMc9,iptaDetectedQ9,iptaDetectedPi9,iptaDetectedLum9, iptaDetectedDist9)\n",
    "\n",
    "rn_proj = np.loadtxt(\"../../detectedSkies/final_skies/kh13_mbul_29_final.txt\")"
   ]
  },
  {
   "cell_type": "code",
   "execution_count": null,
   "metadata": {},
   "outputs": [],
   "source": [
    "bin_list = auto_bin(0.1,-15,-13)\n",
    "weights1 = hist_weight(np.log10(iptaDetectedS6))\n",
    "weights2 = hist_weight(np.log10(RiptaDetectedS6))\n",
    "plt.hist(np.log10(iptaDetectedS6),bin_list, align='left',  alpha=0.8, edgecolor = 'black', \\\n",
    "         label = \"white noise\", color = \"C0\", weights = weights1)\n",
    "plt.hist(np.log10(RiptaDetectedS6),bin_list, align='left',  alpha=0.8, edgecolor = 'black', \\\n",
    "         label = \"red noise\", color = \"C1\", weights = weights2)\n",
    "#plt.xlim(-9.7,-7.7)\n",
    "plt.xlabel(r\"Distribution of strain $\\log_{10}(h)$, 25 year data\")\n",
    "plt.ylabel(\"Probability\")\n",
    "#plt.legend(frameon=False)\n",
    "plt.tight_layout()\n",
    "plt.savefig(\"plots_bul_58/step_5/det_strain_WhiteRed_3sigma_kh13_bul_58.pdf\")\n"
   ]
  },
  {
   "cell_type": "code",
   "execution_count": 140,
   "metadata": {},
   "outputs": [
    {
     "name": "stderr",
     "output_type": "stream",
     "text": [
      "/anaconda3/lib/python3.6/site-packages/ipykernel_launcher.py:19: DeprecationWarning: object of type <class 'float'> cannot be safely interpreted as an integer.\n"
     ]
    },
    {
     "data": {
      "image/png": "[encoded data removed]",
      "text/plain": [
       "<Figure size 244.354x151.019 with 1 Axes>"
      ]
     },
     "metadata": {
      "image/png": {
       "height": 148,
       "width": 241
      }
     },
     "output_type": "display_data"
    }
   ],
   "source": [
    "# What is the distribution of frequencies where sources were detected?\n",
    "bin_list = auto_bin(0.08,-9.6,-7.4)\n",
    "weights1 = hist_weight(np.log10(iptaDetectedF6))\n",
    "weights2 = hist_weight(np.log10(RiptaDetectedF6))\n",
    "plt.hist(np.log10(iptaDetectedF6),bin_list, align='left',  alpha=0.8, edgecolor = 'black', \\\n",
    "         weights = weights1 , label = \"white noise\")\n",
    "plt.hist(np.log10(RiptaDetectedF6),bin_list, align='left',  alpha=0.8, edgecolor = 'black', \\\n",
    "         weights = weights2 , label = \"red noise\")\n",
    "#plt.xlim(-9.7,-7.7)\n",
    "plt.xlabel(r\"Distribution of $\\log_{10}(f_\\mathrm{GW})$, 25 year data [Hz]\")\n",
    "plt.ylabel(\"Probability\")\n",
    "#plt.legend(frameon=False)\n",
    "plt.tight_layout()\n",
    "plt.savefig(\"plots_sigma_58/step_5/det_gw_freqs_WhiteRed_3sigma_kh13_bul_58.pdf\")\n",
    "\n"
   ]
  },
  {
   "cell_type": "code",
   "execution_count": 141,
   "metadata": {},
   "outputs": [
    {
     "data": {
      "text/plain": [
       "10.396872374556285"
      ]
     },
     "execution_count": 141,
     "metadata": {},
     "output_type": "execute_result"
    }
   ],
   "source": [
    "max(mchirp_recLog2)"
   ]
  },
  {
   "cell_type": "code",
   "execution_count": 8,
   "metadata": {},
   "outputs": [
    {
     "ename": "NameError",
     "evalue": "name 'iptaDetectedMc6' is not defined",
     "output_type": "error",
     "traceback": [
      "\u001b[0;31m---------------------------------------------------------------------------\u001b[0m",
      "\u001b[0;31mNameError\u001b[0m                                 Traceback (most recent call last)",
      "\u001b[0;32m<ipython-input-8-66cd3e0fe23a>\u001b[0m in \u001b[0;36m<module>\u001b[0;34m()\u001b[0m\n\u001b[1;32m      1\u001b[0m \u001b[0;31m#mchirp_recLog2 = np.log10(RiptaDetectedMc6)\u001b[0m\u001b[0;34m\u001b[0m\u001b[0;34m\u001b[0m\u001b[0m\n\u001b[0;32m----> 2\u001b[0;31m \u001b[0mmchirp_recLog\u001b[0m \u001b[0;34m=\u001b[0m \u001b[0mnp\u001b[0m\u001b[0;34m.\u001b[0m\u001b[0mlog10\u001b[0m\u001b[0;34m(\u001b[0m\u001b[0miptaDetectedMc6\u001b[0m\u001b[0;34m)\u001b[0m\u001b[0;34m\u001b[0m\u001b[0m\n\u001b[0m\u001b[1;32m      3\u001b[0m \u001b[0;34m\u001b[0m\u001b[0m\n\u001b[1;32m      4\u001b[0m \u001b[0mbin_list\u001b[0m \u001b[0;34m=\u001b[0m \u001b[0mauto_bin\u001b[0m\u001b[0;34m(\u001b[0m\u001b[0;36m.07\u001b[0m\u001b[0;34m,\u001b[0m\u001b[0;36m8.3\u001b[0m\u001b[0;34m,\u001b[0m\u001b[0;36m10.3\u001b[0m\u001b[0;34m)\u001b[0m\u001b[0;34m\u001b[0m\u001b[0m\n\u001b[1;32m      5\u001b[0m \u001b[0mweights1\u001b[0m \u001b[0;34m=\u001b[0m \u001b[0mhist_weight\u001b[0m\u001b[0;34m(\u001b[0m\u001b[0mmchirp_recLog\u001b[0m\u001b[0;34m)\u001b[0m\u001b[0;34m\u001b[0m\u001b[0m\n",
      "\u001b[0;31mNameError\u001b[0m: name 'iptaDetectedMc6' is not defined"
     ]
    }
   ],
   "source": [
    "#mchirp_recLog2 = np.log10(RiptaDetectedMc6)\n",
    "mchirp_recLog = np.log10(iptaDetectedMc6)\n",
    "\n",
    "bin_list = auto_bin(.07,8.3,10.3)\n",
    "weights1 = hist_weight(mchirp_recLog)\n",
    "weights2 = hist_weight(mchirp_recLog2)\n",
    "\n",
    "plt.hist(mchirp_recLog ,bin_list, align='left',  alpha=0.8, edgecolor = 'black', weights = weights1, \\\n",
    "        label = \"white noise\")\n",
    "\n",
    "#plt.hist(mchirp_recLog2 ,bin_list, align='left',  alpha=0.8, edgecolor = 'black', weights = weights2, \\\n",
    "        #label = 'red noise')\n",
    "\n",
    "plt.xlabel(r\"Log Chirp Mass $\\mathcal{M}_c$ $[M_\\odot]$, 25 year data\")\n",
    "plt.ylabel(\"Probability\")\n",
    "#plt.legend(frameon=False)\n",
    "plt.tight_layout()\n",
    "plt.savefig(\"plots_bul_29/step_5/det_chirp_WhiteRed_3sigma_kh13_bul_ppt.pdf\")\n",
    "\n"
   ]
  },
  {
   "cell_type": "code",
   "execution_count": 143,
   "metadata": {},
   "outputs": [
    {
     "name": "stderr",
     "output_type": "stream",
     "text": [
      "/anaconda3/lib/python3.6/site-packages/ipykernel_launcher.py:19: DeprecationWarning: object of type <class 'float'> cannot be safely interpreted as an integer.\n"
     ]
    },
    {
     "data": {
      "image/png": "[encoded data removed]",
      "text/plain": [
       "<Figure size 244.354x151.019 with 1 Axes>"
      ]
     },
     "metadata": {
      "image/png": {
       "height": 148,
       "width": 244
      }
     },
     "output_type": "display_data"
    }
   ],
   "source": [
    "fig = plt.figure()\n",
    "ax = fig.add_subplot(111)\n",
    "bin_list = auto_bin(.05,.2,1)\n",
    "weights1 = hist_weight(iptaDetectedQ6)\n",
    "weights2 = hist_weight(RiptaDetectedQ6)\n",
    "\n",
    "plt.hist(iptaDetectedQ6,bin_list, alpha=0.8, edgecolor = 'black', align = 'left', weights = weights1,\\\n",
    "        label = \"white noise\")\n",
    "plt.hist(RiptaDetectedQ6,bin_list, alpha=0.8, edgecolor = 'black', align = 'left', weights = weights2, \\\n",
    "        label= 'red noise')\n",
    "\n",
    "plt.xlabel(r\"Mass Ratio ($q$), 25 year dataset \")\n",
    "plt.ylabel(\"Probability\")\n",
    "plt.xlim(0.2,1.0)\n",
    "majorLocator = MultipleLocator(.25)\n",
    "minorLocator = MultipleLocator(0.05)\n",
    "ax.xaxis.set_minor_locator(minorLocator)\n",
    "ax.xaxis.set_major_locator(majorLocator)\n",
    "#plt.legend(frameon=False)\n",
    "plt.tight_layout()\n",
    "\n",
    "plt.savefig(\"plots_sigma_87/step_5/mass_ratio_det_WhiteRed_3sigma_kh13_sig_87.pdf\")\n",
    "\n"
   ]
  },
  {
   "cell_type": "code",
   "execution_count": 144,
   "metadata": {},
   "outputs": [
    {
     "name": "stderr",
     "output_type": "stream",
     "text": [
      "/anaconda3/lib/python3.6/site-packages/matplotlib/cbook/deprecation.py:107: MatplotlibDeprecationWarning: Adding an axes using the same arguments as a previous axes currently reuses the earlier instance.  In a future version, a new instance will always be created and returned.  Meanwhile, this warning can be suppressed, and the future behavior ensured, by passing a unique label to each axes instance.\n",
      "  warnings.warn(message, mplDeprecation, stacklevel=1)\n",
      "/anaconda3/lib/python3.6/site-packages/ipykernel_launcher.py:19: DeprecationWarning: object of type <class 'float'> cannot be safely interpreted as an integer.\n"
     ]
    },
    {
     "data": {
      "image/png": "[encoded data removed]",
      "text/plain": [
       "<Figure size 244.354x151.019 with 1 Axes>"
      ]
     },
     "metadata": {
      "image/png": {
       "height": 148,
       "width": 241
      }
     },
     "output_type": "display_data"
    }
   ],
   "source": [
    "ax = fig.add_subplot(111)\n",
    "bin_list = auto_bin(.08,-27,-24.9)\n",
    "weights1 = hist_weight(iptaDetectedLum6)\n",
    "weights2 = hist_weight(RiptaDetectedLum6)\n",
    "\n",
    "plt.hist(iptaDetectedLum6,bin_list, alpha=0.8, edgecolor = 'black', align = 'left', weights = weights1)\n",
    "plt.hist(RiptaDetectedLum6,bin_list, alpha=0.8, edgecolor = 'black', align = 'left', weights = weights2)\n",
    "plt.xlim(-27,-24.9)\n",
    "plt.ylabel(\"Probability\")\n",
    "plt.xlabel(r\"2MASS K-band Luminosity ($M_K$), 25 year dataset \")\n",
    "#plt.legend(frameon=False)\n",
    "plt.tight_layout()\n",
    "\n",
    "plt.savefig(\"plots_sigma_87/step_5/kLum_det_WhiteRed_3sigma_kh13_sig_87.pdf\")\n",
    "\n"
   ]
  },
  {
   "cell_type": "code",
   "execution_count": 145,
   "metadata": {},
   "outputs": [
    {
     "name": "stderr",
     "output_type": "stream",
     "text": [
      "/anaconda3/lib/python3.6/site-packages/ipykernel_launcher.py:19: DeprecationWarning: object of type <class 'float'> cannot be safely interpreted as an integer.\n",
      "/anaconda3/lib/python3.6/site-packages/matplotlib/cbook/deprecation.py:107: MatplotlibDeprecationWarning: Adding an axes using the same arguments as a previous axes currently reuses the earlier instance.  In a future version, a new instance will always be created and returned.  Meanwhile, this warning can be suppressed, and the future behavior ensured, by passing a unique label to each axes instance.\n",
      "  warnings.warn(message, mplDeprecation, stacklevel=1)\n"
     ]
    },
    {
     "data": {
      "image/png": "[encoded data removed]",
      "text/plain": [
       "<Figure size 244.354x151.019 with 1 Axes>"
      ]
     },
     "metadata": {
      "image/png": {
       "height": 148,
       "width": 241
      }
     },
     "output_type": "display_data"
    }
   ],
   "source": [
    "bin_list = auto_bin(5,10,220)\n",
    "weights1 = hist_weight(iptaDetectedDist6)\n",
    "weights2 = hist_weight(RiptaDetectedDist6)\n",
    "\n",
    "ax = fig.add_subplot(111)\n",
    "plt.hist(iptaDetectedDist6, bin_list, weights=weights1, alpha = 0.8, align='left', edgecolor = 'black',\\\n",
    "         label = \"white noise\")\n",
    "plt.hist(RiptaDetectedDist6, bin_list, weights=weights2, alpha = 0.8, align='left', edgecolor = 'black', \\\n",
    "        label = \"red noise\")\n",
    "\n",
    "\n",
    "majorLocator = MultipleLocator(25)\n",
    "minorLocator = MultipleLocator(5)\n",
    "ax.xaxis.set_minor_locator(minorLocator)\n",
    "ax.xaxis.set_major_locator(majorLocator)\n",
    "plt.xlabel(\"Distance to Galaxy (Mpc), detected 25 year\")\n",
    "plt.ylabel(\"Probability\")\n",
    "plt.vlines(22,0,.08, colors='C3', linestyles='-.')\n",
    "plt.vlines(108,0,.08,colors='C4', linestyles='-.')\n",
    "plt.annotate('Virgo', (24,.07), color = 'C3')\n",
    "plt.annotate('Coma', (111,.07), color = 'C4')\n",
    "\n",
    "#plt.legend(frameon=False)\n",
    "plt.tight_layout()\n",
    "\n",
    "plt.savefig(\"plots_sigma_87/step_5/distance_5bins_WhiteRed_3sigma_kh13_sig_87.pdf\")\n",
    "\n"
   ]
  },
  {
   "cell_type": "code",
   "execution_count": null,
   "metadata": {},
   "outputs": [],
   "source": []
  },
  {
   "cell_type": "code",
   "execution_count": 190,
   "metadata": {},
   "outputs": [
    {
     "data": {
      "text/plain": [
       "2.8620689655172415"
      ]
     },
     "execution_count": 190,
     "metadata": {},
     "output_type": "execute_result"
    }
   ],
   "source": [
    "0.83/0.29"
   ]
  },
  {
   "cell_type": "code",
   "execution_count": 191,
   "metadata": {},
   "outputs": [
    {
     "data": {
      "text/plain": [
       "2.066666666666667"
      ]
     },
     "execution_count": 191,
     "metadata": {},
     "output_type": "execute_result"
    }
   ],
   "source": [
    "0.31/0.15"
   ]
  },
  {
   "cell_type": "code",
   "execution_count": 192,
   "metadata": {},
   "outputs": [
    {
     "data": {
      "text/plain": [
       "1.7"
      ]
     },
     "execution_count": 192,
     "metadata": {},
     "output_type": "execute_result"
    }
   ],
   "source": [
    "0.17/0.10"
   ]
  },
  {
   "cell_type": "code",
   "execution_count": 193,
   "metadata": {},
   "outputs": [
    {
     "data": {
      "text/plain": [
       "2.5"
      ]
     },
     "execution_count": 193,
     "metadata": {},
     "output_type": "execute_result"
    }
   ],
   "source": [
    "0.90/0.36"
   ]
  },
  {
   "cell_type": "code",
   "execution_count": 194,
   "metadata": {},
   "outputs": [
    {
     "data": {
      "text/plain": [
       "2.3333333333333335"
      ]
     },
     "execution_count": 194,
     "metadata": {},
     "output_type": "execute_result"
    }
   ],
   "source": [
    "0.35/0.15"
   ]
  },
  {
   "cell_type": "code",
   "execution_count": 195,
   "metadata": {},
   "outputs": [
    {
     "data": {
      "text/plain": [
       "2.3333333333333335"
      ]
     },
     "execution_count": 195,
     "metadata": {},
     "output_type": "execute_result"
    }
   ],
   "source": [
    "0.21/0.09"
   ]
  },
  {
   "cell_type": "code",
   "execution_count": null,
   "metadata": {},
   "outputs": [],
   "source": []
  }
 ],
 "metadata": {
  "kernelspec": {
   "display_name": "Python 3",
   "language": "python",
   "name": "python3"
  },
  "language_info": {
   "codemirror_mode": {
    "name": "ipython",
    "version": 3
   },
   "file_extension": ".py",
   "mimetype": "text/x-python",
   "name": "python",
   "nbconvert_exporter": "python",
   "pygments_lexer": "ipython3",
   "version": "3.6.5"
  }
 },
 "nbformat": 4,
 "nbformat_minor": 1
}
