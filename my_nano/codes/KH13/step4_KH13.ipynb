{
 "cells": [
  {
   "cell_type": "code",
   "execution_count": 1,
   "metadata": {},
   "outputs": [],
   "source": [
    "#!/usr/bin/env python\n",
    "\"\"\"choose_skies.ipynb: a notebook to create and examine GW backgrounds \"\"\"\n",
    "\n",
    "__author__ = \"Chiara M. F. Mingarelli\"\n",
    "__copyright__ = \"Copyright 2016, GWASAP project\"\n",
    "__credits__ = [\"Chiara Mingarelli\", \"Stephen Taylor\"]\n",
    "__license__ = \"GPL\"\n",
    "__version__ = \"0.0.1\"\n",
    "__maintainer__ = \"Chiara Mingarelli\"\n",
    "__email__ = \"mingarelli@gmail.com\"\n"
   ]
  },
  {
   "cell_type": "code",
   "execution_count": 2,
   "metadata": {},
   "outputs": [],
   "source": [
    "from __future__ import division\n",
    "from IPython.display import display, Math, Latex\n",
    "import math\n",
    "from math import sqrt, cos, sin, pi\n",
    "import numpy as np\n",
    "import matplotlib.pyplot as plt\n",
    "import matplotlib.mlab as ml\n",
    "from matplotlib.ticker import FormatStrFormatter, LinearLocator, NullFormatter, NullLocator, MultipleLocator\n",
    "import matplotlib.ticker\n",
    "import matplotlib.colors\n",
    "from matplotlib.font_manager import FontProperties\n",
    "from matplotlib import rc, text\n",
    "import healpy as hp\n",
    "import plot_mpl2 as plot\n",
    "from astropy.io import fits\n",
    "\n",
    "import AnisCoefficients_pix as cbylm_pix \n",
    "\n",
    "%matplotlib inline\n",
    "%config InlineBackend.figure_format = \"retina\""
   ]
  },
  {
   "cell_type": "code",
   "execution_count": 3,
   "metadata": {},
   "outputs": [
    {
     "data": {
      "text/plain": [
       "'NUMBER OF DETECTED SKIES PER RELAIZTAION'"
      ]
     },
     "execution_count": 3,
     "metadata": {},
     "output_type": "execute_result"
    }
   ],
   "source": [
    "\"\"\"NUMBER OF DETECTED SKIES PER RELAIZTAION\"\"\"\n",
    "#0.29 dex = 352/115,281 -- 0.003"
   ]
  },
  {
   "cell_type": "code",
   "execution_count": 4,
   "metadata": {},
   "outputs": [],
   "source": [
    "freq_choice = np.loadtxt(\"../gw_freqs1.dat\") #available GW frequencies"
   ]
  },
  {
   "cell_type": "code",
   "execution_count": 5,
   "metadata": {},
   "outputs": [
    {
     "name": "stdout",
     "output_type": "stream",
     "text": [
      "352\n"
     ]
    }
   ],
   "source": [
    "#gets data from ALL final skies\n",
    "final_file = np.genfromtxt(\"../../detectedSkies/final_skies/kh13_mbul_29_final.txt\")\n",
    "final_galname = np.genfromtxt(\"../../detectedSkies/final_skies/kh13_mbul_29_final.txt\", usecols = 0, dtype='str')\n",
    "final_filename = np.genfromtxt(\"../../detectedSkies/final_skies/kh13_mbul_29_final.txt\", usecols = -1, dtype='str')\n",
    "final_size = len(final_file)\n",
    "print(final_size)"
   ]
  },
  {
   "cell_type": "code",
   "execution_count": 6,
   "metadata": {},
   "outputs": [
    {
     "name": "stdout",
     "output_type": "stream",
     "text": [
      "241\n",
      "NGC1316\n",
      "b'KH13_90747.txt'\n"
     ]
    }
   ],
   "source": [
    "#finds the loudest source from all the detectable sources from final skies\n",
    "final_strain = final_file[:,6]\n",
    "loudest_index = final_strain.argmax()\n",
    "loudest_galname = final_galname[loudest_index]\n",
    "loudest_filename = final_filename[loudest_index]\n",
    "print(loudest_index)\n",
    "print(loudest_galname)\n",
    "print(loudest_filename)"
   ]
  },
  {
   "cell_type": "code",
   "execution_count": 7,
   "metadata": {},
   "outputs": [],
   "source": [
    "#get RA and DEC for each \"final\" source\n",
    "final_RA = np.zeros(final_size)\n",
    "final_DEC =np.zeros(final_size)\n",
    "\n",
    "for i in range(final_size):\n",
    "    peek_file = np.genfromtxt(\"../../rusty_data/KH13_Reg/29_dex/\"+(str(str(final_filename[i])[2:-1])))\n",
    "    names = np.genfromtxt(\"../../rusty_data/KH13_Reg/29_dex/\"+(str(str(final_filename[i])[2:-1])), usecols = 6, dtype='str')\n",
    "    want_index = np.where(names==final_galname[i])[0][0]\n",
    "    peek_RAs = peek_file[:,0]\n",
    "    peek_DECs = peek_file[:,1]\n",
    "    final_RA[i] = peek_RAs[want_index]\n",
    "    final_DEC[i] = peek_DECs[want_index]"
   ]
  },
  {
   "cell_type": "code",
   "execution_count": null,
   "metadata": {},
   "outputs": [],
   "source": [
    "# source sky, the sky with the loudest source \n",
    "\n",
    "sim_sky_all = np.genfromtxt(\"../../rusty_data/KH13_Reg/29_dex/\"+(str(str(loudest_filename)[2:-1])))\n",
    "RA_tot_all = sim_sky_all[:,0] #phi, add pi to this for healpix maps\n",
    "DEC_tot_all = sim_sky_all[:,1] #theta\n",
    "freq_all = sim_sky_all[:,2]\n",
    "strain_vec_all = sim_sky_all[:,3]\n",
    "file_size_all = strain_vec_all.size # number of galaxies in file\n",
    "\n"
   ]
  },
  {
   "cell_type": "code",
   "execution_count": null,
   "metadata": {},
   "outputs": [],
   "source": [
    "print(loudest_filename)"
   ]
  },
  {
   "cell_type": "code",
   "execution_count": 11,
   "metadata": {},
   "outputs": [],
   "source": [
    "# source sky, RANDOM\n",
    "\n",
    "sim_sky_all = np.genfromtxt(\"../../rusty_data/KH13_Reg/29_dex/KH13_90126.txt\")\n",
    "RA_tot_all = sim_sky_all[:,0] #phi, add pi to this for healpix maps\n",
    "DEC_tot_all = sim_sky_all[:,1] #theta\n",
    "freq_all = sim_sky_all[:,2]\n",
    "strain_vec_all = sim_sky_all[:,3]\n",
    "file_size_all = strain_vec_all.size # number of galaxies in file\n",
    "\n"
   ]
  },
  {
   "cell_type": "code",
   "execution_count": 12,
   "metadata": {},
   "outputs": [
    {
     "data": {
      "text/plain": [
       "20"
      ]
     },
     "execution_count": 12,
     "metadata": {},
     "output_type": "execute_result"
    }
   ],
   "source": [
    "len(strain_vec_all)"
   ]
  },
  {
   "cell_type": "code",
   "execution_count": null,
   "metadata": {},
   "outputs": [],
   "source": [
    "\"\"\"find index of loudest source\"\"\"\n",
    "#don't run if doing random example\n",
    "source_index = strain_vec_all.argmax()\n",
    "source_RA = RA_tot_all[source_index]\n",
    "source_DEC = DEC_tot_all[source_index]"
   ]
  },
  {
   "cell_type": "code",
   "execution_count": null,
   "metadata": {},
   "outputs": [],
   "source": [
    "# remove loudest source from the sky to get noise\n",
    "#don't run if doing randomal example\n",
    "sim_sky_noise = np.delete(sim_sky_all, source_index, axis = 0)\n",
    "RA_tot_noise = sim_sky_noise[:,0] #phi, add pi to this for healpix maps\n",
    "DEC_tot_noise = sim_sky_noise[:,1] #theta\n",
    "freq_noise = sim_sky_noise[:,2]\n",
    "strain_vec_noise = sim_sky_noise[:,3]\n",
    "file_size_noise = strain_vec_noise.size # number of galaxies in file\n"
   ]
  },
  {
   "cell_type": "code",
   "execution_count": null,
   "metadata": {},
   "outputs": [],
   "source": [
    "file_size_all"
   ]
  },
  {
   "cell_type": "code",
   "execution_count": null,
   "metadata": {},
   "outputs": [],
   "source": [
    "# A map of the sky realization where the detection was made"
   ]
  },
  {
   "cell_type": "code",
   "execution_count": 23,
   "metadata": {},
   "outputs": [
    {
     "name": "stderr",
     "output_type": "stream",
     "text": [
      "/anaconda3/lib/python3.6/site-packages/matplotlib/font_manager.py:1328: UserWarning: findfont: Font family ['serif'] not found. Falling back to DejaVu Sans\n",
      "  (prop.get_family(), self.defaultFamily[fontext]))\n"
     ]
    },
    {
     "data": {
      "image/png": "[encoded data removed]",
      "text/plain": [
       "<Figure size 244.354x151.019 with 2 Axes>"
      ]
     },
     "metadata": {
      "image/png": {
       "height": 150,
       "width": 209
      }
     },
     "output_type": "display_data"
    }
   ],
   "source": [
    "ax = plt.subplot(111, projection='astro mollweide')\n",
    "\n",
    "# plot \"noise\" map (GW sky with 2 loud sources removed)\n",
    "\n",
    "maxstrain = np.amax(strain_vec_all)\n",
    "colors = (strain_vec_all) # make colors vary with respect to strain\n",
    "area = pi * (7*strain_vec_all/maxstrain)**2  # adapt circles with 0 to 15 point radii\n",
    "\n",
    "\n",
    "\n",
    "# labels\n",
    "plt.suptitle(r'strain, $h$', y=0.3)\n",
    "sc = plt.scatter(RA_tot_all, DEC_tot_all, c = colors, cmap = 'viridis', alpha = 0.9, edgecolors='none',s=area)\n",
    "\n",
    "\n",
    "#plt.scatter(source_RA, source_DEC, color ='yellow', marker = '*', s=100, edgecolor = \"black\", lw =0.2)\n",
    "\n",
    "plt.colorbar(sc, orientation = 'horizontal')\n",
    "#plt.savefig(\"plots_kh13_29/step_4/\"+str(loudest_galname)+\"_mapWsource.pdf\")\n",
    "plt.savefig(\"plots_bul_29/step_4/random_final_mapWsource.pdf\")\n",
    "\n"
   ]
  },
  {
   "cell_type": "code",
   "execution_count": 14,
   "metadata": {},
   "outputs": [
    {
     "data": {
      "image/png": "[encoded data removed]",
      "text/plain": [
       "<Figure size 432x288 with 2 Axes>"
      ]
     },
     "metadata": {
      "image/png": {
       "height": 249,
       "width": 357
      }
     },
     "output_type": "display_data"
    }
   ],
   "source": [
    "#plot all final ones\n",
    "ax = plt.subplot(111, projection='astro mollweide')\n",
    "\n",
    "# plot \"noise\" map (GW sky with 2 loud sources removed)\n",
    "\n",
    "#log_strain = np.log10(final_strain)\n",
    "maxstrain = np.amax(final_strain)\n",
    "colors = (final_strain) # make colors vary with respect to strain\n",
    "\n",
    "area = pi * (5*final_strain/maxstrain)**2  # adapt circles with 0 to 15 point radii\n",
    "\n",
    "# labels\n",
    "plt.suptitle(r'$log_{10}strain$, $h$', y=0.3)\n",
    "sc = plt.scatter(final_RA, final_DEC, c = colors, cmap = 'viridis', alpha = 0.9, edgecolors='none',s=area)\n",
    "\n",
    "#plt.scatter(source_RA, source_DEC, color ='yellow', marker = '*', s=100, edgecolor = \"black\", lw =0.2)\n",
    "\n",
    "plt.colorbar(sc, orientation = 'horizontal')\n",
    "#plt.savefig(\"plots_kh13_29/step_4/\"+str(loudest_galname)+\"_mapWsource.pdf\")\n",
    "plt.savefig(\"plots_kh13_29/step_4/all_final_mapWsource.pdf\")\n",
    "\n",
    "\n"
   ]
  },
  {
   "cell_type": "code",
   "execution_count": null,
   "metadata": {},
   "outputs": [],
   "source": [
    "# What does the GW background look like from this sky?"
   ]
  },
  {
   "cell_type": "code",
   "execution_count": 14,
   "metadata": {},
   "outputs": [],
   "source": [
    "def h2_c(hk, fk, deltaF):\n",
    "    \"\"\"\n",
    "    Eq 35 Babak et al. 2016; \n",
    "    Given a sky of strains at certain frequencies,\n",
    "    what is it in terms of a GW background?\n",
    "    returns h^2_c\n",
    "    \"\"\"\n",
    "    h2k = np.square(hk)\n",
    "    ans = h2k*fk/deltaF\n",
    "    return ans\n",
    "\n",
    "\n",
    "def pol2cart(lon, lat): \n",
    "    \"\"\" \n",
    "    Utility function to convert longitude,latitude on a unit sphere to \n",
    "    cartesian co-ordinates.\n",
    "\n",
    "    \"\"\" \n",
    "\n",
    "    x = np.cos(lat)*np.cos(lon) \n",
    "    y = np.cos(lat)*np.sin(lon) \n",
    "    z = np.sin(lat) \n",
    "\n",
    "    return np.array([x,y,z])\n",
    "\n",
    "\n",
    "def greedy_bin_sky(skypos, skycarts, weights=None):\n",
    "    \"\"\"\n",
    "\n",
    "    Greedy binning algorithm\n",
    "\n",
    "    \"\"\"\n",
    "\n",
    "    N = len(skycarts) \n",
    "    skycarts = np.array(skycarts)\n",
    "    bins = np.zeros(N)\n",
    "    ct = 0\n",
    "    for raSample, decSample in skypos: \n",
    "        sampcart = pol2cart(raSample, decSample) \n",
    "        dx = np.dot(skycarts, sampcart)\n",
    "        maxdx = np.argmax(dx)\n",
    "\n",
    "        if weights is not None:\n",
    "            bins[maxdx] += weights[ct]\n",
    "        else:\n",
    "            bins[maxdx] += 1\n",
    "\n",
    "        ct += 1\n",
    "\n",
    "    # fill in skymap\n",
    "    histIndices = np.argsort(bins)[::-1]    # in decreasing order\n",
    "    NSamples = len(skypos)\n",
    "\n",
    "    frac = 0.0\n",
    "    skymap = np.zeros(N)\n",
    "    for i in histIndices:\n",
    "        frac = float(bins[i]) # /float(NSamples) \n",
    "        skymap[i] = frac\n",
    "\n",
    "    return skymap\n",
    "\n",
    "\n",
    "def plotSkyMap(raSample, decSample, nside=64, contours=None, colorbar=True, \\\n",
    "              inj=None, weights=None, psrs=None):\n",
    "    \"\"\"\n",
    "\n",
    "    Plot Skymap of chain samples on Mollwiede projection.\n",
    "\n",
    "    @param raSample: Array of right ascension samples\n",
    "    @param decSample: Array of declination  samples\n",
    "    @param nside: Number of pixels across equator [default = 64]\n",
    "    @param contours: Confidence contours to draw eg. 68%, 95% etc\n",
    "                     By default this is set to none and no contours\n",
    "                     will be drawn.\n",
    "    @param colorbar: Boolean option to draw colorbar [default = True]\n",
    "    @param inj: list of injected values [ra, dec] in radians to plot\n",
    "                [default = None]\n",
    "    @param weights: sample weights [default = None]\n",
    "    @param psrs: Stacked array of pulsar sky locations [ra, dec] in radians\n",
    "                 [default=None] Will plot as white diamonds\n",
    "\n",
    "    \"\"\"\n",
    "\n",
    "    # clear figures\n",
    "    plt.clf()\n",
    "\n",
    "    # create stacked array of ra and dec\n",
    "    skypos = np.column_stack([raSample, decSample])\n",
    "\n",
    "    npix = hp.nside2npix(nside)    # number of pixels total\n",
    "\n",
    "\n",
    "    # initialize theta and phi map coordinantes\n",
    "    skycarts=[]\n",
    "    for ii in range(npix):\n",
    "        skycarts.append(np.array(hp.pix2vec(nside,ii)))\n",
    "\n",
    "    # get skymap values from greedy binning algorithm\n",
    "    skymap = greedy_bin_sky(skypos, skycarts, weights)\n",
    "\n",
    "    # smooth skymap (ON for sky maps/ OFF for cl)\n",
    "    skymap = hp.smoothing(skymap, 0.1)\n",
    "\n",
    "    # make plot\n",
    "    ax = plt.subplot(111, projection='astro mollweide')\n",
    "\n",
    "    # plot map\n",
    "    #ax.grid()\n",
    "    #plot.outline_text(ax)\n",
    "    plot.healpix_heatmap(skymap, cmap = 'viridis')\n",
    "\n",
    "    return skymap\n",
    "    # save skymap\n",
    "    #plt.savefig('skymap.pdf', bbox_inches='tight')"
   ]
  },
  {
   "cell_type": "code",
   "execution_count": 15,
   "metadata": {},
   "outputs": [],
   "source": [
    "T = 315360000*2.5 # 25 years in seconds, consistent with EPTA data\n",
    "dF = 1/T"
   ]
  },
  {
   "cell_type": "code",
   "execution_count": 16,
   "metadata": {},
   "outputs": [],
   "source": [
    "#\n",
    "#hc_strain_noise = np.sqrt(h2_c(strain_vec_noise, freq_noise, dF))\n",
    "hc_strain_all = np.sqrt(h2_c(strain_vec_all, freq_all, dF))"
   ]
  },
  {
   "cell_type": "code",
   "execution_count": 17,
   "metadata": {},
   "outputs": [
    {
     "ename": "NameError",
     "evalue": "name 'hc_strain_noise' is not defined",
     "output_type": "error",
     "traceback": [
      "\u001b[0;31m---------------------------------------------------------------------------\u001b[0m",
      "\u001b[0;31mNameError\u001b[0m                                 Traceback (most recent call last)",
      "\u001b[0;32m<ipython-input-17-53176cfab205>\u001b[0m in \u001b[0;36m<module>\u001b[0;34m()\u001b[0m\n\u001b[0;32m----> 1\u001b[0;31m \u001b[0mhc_strain_noiseLog\u001b[0m \u001b[0;34m=\u001b[0m \u001b[0mnp\u001b[0m\u001b[0;34m.\u001b[0m\u001b[0mlog10\u001b[0m\u001b[0;34m(\u001b[0m\u001b[0mhc_strain_noise\u001b[0m\u001b[0;34m)\u001b[0m\u001b[0;34m\u001b[0m\u001b[0m\n\u001b[0m",
      "\u001b[0;31mNameError\u001b[0m: name 'hc_strain_noise' is not defined"
     ]
    }
   ],
   "source": [
    "hc_strain_noiseLog = np.log10(hc_strain_noise)"
   ]
  },
  {
   "cell_type": "code",
   "execution_count": null,
   "metadata": {},
   "outputs": [],
   "source": []
  },
  {
   "cell_type": "code",
   "execution_count": 21,
   "metadata": {},
   "outputs": [
    {
     "name": "stdout",
     "output_type": "stream",
     "text": [
      "Sigma is 145.987664 arcmin (0.042466 rad) \n",
      "-> fwhm is 343.774677 arcmin\n",
      "Sigma is 0.000000 arcmin (0.000000 rad) \n",
      "-> fwhm is 0.000000 arcmin\n"
     ]
    },
    {
     "name": "stderr",
     "output_type": "stream",
     "text": [
      "/anaconda3/lib/python3.6/site-packages/matplotlib/font_manager.py:1328: UserWarning: findfont: Font family ['serif'] not found. Falling back to DejaVu Sans\n",
      "  (prop.get_family(), self.defaultFamily[fontext]))\n"
     ]
    },
    {
     "data": {
      "image/png": "[encoded data removed]",
      "text/plain": [
       "<Figure size 244.354x151.019 with 2 Axes>"
      ]
     },
     "metadata": {
      "image/png": {
       "height": 150,
       "width": 209
      }
     },
     "output_type": "display_data"
    }
   ],
   "source": [
    "#turn ON SMOOTHING\n",
    "hpskymap_all = plotSkyMap(RA_tot_all, DEC_tot_all , weights = hc_strain_all)\n",
    "plt.suptitle(r'characteristic strain, $h_c$', y=0.3)\n",
    "plt.colorbar(orientation='horizontal')\n",
    "#plt.savefig('plots_kh13_29/step_4/'+str(loudest_galname)+'_w_all.pdf', bbox_inches='tight')\n",
    "plt.savefig('plots_bul_29/step_4/random_all.pdf', bbox_inches='tight')"
   ]
  },
  {
   "cell_type": "code",
   "execution_count": null,
   "metadata": {},
   "outputs": [],
   "source": [
    "# don't run for random\n",
    "#hpskymap_noise = plotSkyMap(RA_tot_noise, DEC_tot_noise , weights = hc_strain_noise)\n",
    "plt.suptitle(r'characteristic strain, $h_c$', y=0.3)\n",
    "plt.colorbar( orientation='horizontal')\n",
    "plt.savefig('plots_kh13_29/step_4/'+str(loudest_galname)+'_only_noise.pdf', bbox_inches='tight')"
   ]
  },
  {
   "cell_type": "code",
   "execution_count": null,
   "metadata": {},
   "outputs": [],
   "source": [
    "\"\"\"TURN OFF SMOOTH\"\"\""
   ]
  },
  {
   "cell_type": "code",
   "execution_count": null,
   "metadata": {},
   "outputs": [],
   "source": [
    "hp.pixelfunc.remove_monopole(hpskymap_all)"
   ]
  },
  {
   "cell_type": "code",
   "execution_count": null,
   "metadata": {},
   "outputs": [],
   "source": [
    "# create alm map form healpix map\n",
    "alm_map_noise = hp.map2alm(hpskymap_noise,lmax=10)\n",
    "alm_map_all = hp.map2alm(hpskymap_all,lmax=10)\n",
    "\n",
    "# make a map in terms of \\ell from the alm map\n",
    "hpskymap_lmax_noise = hp.alm2map(alm_map_noise,nside=64)\n",
    "hpskymap_lmax_all = hp.alm2map(alm_map_all,nside=64)"
   ]
  },
  {
   "cell_type": "code",
   "execution_count": null,
   "metadata": {},
   "outputs": [],
   "source": []
  },
  {
   "cell_type": "code",
   "execution_count": null,
   "metadata": {},
   "outputs": [],
   "source": [
    "plotSkyMap(RA_tot_all, DEC_tot_all, weights = hpskymap_lmax_noise)\n",
    "plt.colorbar(orientation='horizontal')\n",
    "#plt.savefig('plots_kh13_29/step_4/'+str(loudest_galname)+'_skymap.pdf', bbox_inches='tight')"
   ]
  },
  {
   "cell_type": "code",
   "execution_count": null,
   "metadata": {},
   "outputs": [],
   "source": [
    "hpskymap_lmax_noise[hpskymap_lmax_noise < 0.0] = 0.0\n",
    "hpskymap_lmax_all[hpskymap_lmax_all < 0.0] = 0.0"
   ]
  },
  {
   "cell_type": "code",
   "execution_count": null,
   "metadata": {},
   "outputs": [],
   "source": [
    "# What does this sky look like in terms of an anisotropic background?"
   ]
  },
  {
   "cell_type": "code",
   "execution_count": null,
   "metadata": {},
   "outputs": [],
   "source": [
    "# h^2_c for C_l decomposition\n",
    "\n",
    "hpskymap2_noise = plotSkyMap(RA_tot_noise, DEC_tot_noise , weights = hc_strain_noise**2)\n",
    "hpskymap2_all = plotSkyMap(RA_tot_all, DEC_tot_all, weights = hc_strain_all**2)\n",
    "\n",
    "# create alm map form healpix map\n",
    "\n",
    "alm_map2_noise = hp.map2alm(hpskymap2_noise,lmax=10)\n",
    "alm_map2_all = hp.map2alm(hpskymap2_all,lmax=10)\n",
    "\n",
    "# make a map in terms of \\ell from the alm map\n",
    "\n",
    "hpskymap_lmax2_noise = hp.alm2map(alm_map2_noise,nside=64)\n",
    "hpskymap_lmax2_all = hp.alm2map(alm_map2_all,nside=64)\n"
   ]
  },
  {
   "cell_type": "code",
   "execution_count": null,
   "metadata": {},
   "outputs": [],
   "source": [
    "## Decompose this onto real spherical harmonics with our standard normalisations\n",
    "lmax = 50\n",
    "\n",
    "clm_noise = cbylm_pix.clmFromMap_fast(hpskymap2_noise, lmax)\n",
    "clm_all = cbylm_pix.clmFromMap_fast(hpskymap2_all, lmax)"
   ]
  },
  {
   "cell_type": "code",
   "execution_count": null,
   "metadata": {},
   "outputs": [],
   "source": [
    "## Make the angular power spectrum, Cl = \\sum_m |clm|^2 / (2l+1)\n",
    "\n",
    "Cl_all = np.zeros(lmax+1)\n",
    "for ll in range(0,lmax+1):\n",
    "    Cl_all[ll] = np.sum(clm_all[ll**2:(ll+1)**2]**2.0) / (2.0*ll+1.0) / (4.0*pi)"
   ]
  },
  {
   "cell_type": "code",
   "execution_count": null,
   "metadata": {},
   "outputs": [],
   "source": [
    "## Make the angular power spectrum, Cl = \\sum_m |clm|^2 / (2l+1)\n",
    "\n",
    "Cl_noise = np.zeros(lmax+1)\n",
    "for ll in range(0,lmax+1):\n",
    "    Cl_noise[ll] = np.sum(clm_noise[ll**2:(ll+1)**2]**2.0) / (2.0*ll+1.0) / (4.0*pi)"
   ]
  },
  {
   "cell_type": "code",
   "execution_count": 20,
   "metadata": {},
   "outputs": [],
   "source": [
    "# plotting preamble (credit J. Ellis)\n",
    "\n",
    "fig_width_pt = 245.27 #513.17           # Get this from LaTeX using \\showthe\\columnwidth\n",
    "inches_per_pt = 1.0/72.27               # Convert pt to inches\n",
    "golden_mean = (np.sqrt(5)-1.0)/2.0      # Aesthetic ratio\n",
    "fig_width = fig_width_pt*inches_per_pt  # width in inches\n",
    "fig_height =fig_width*golden_mean       # height in inches\n",
    "fig_size = [fig_width,fig_height]\n",
    "\n",
    "params = {'backend': 'pdf',\n",
    "        'axes.labelsize': 7,\n",
    "        'lines.markersize': 2,\n",
    "        'font.size': 7,\n",
    "        'xtick.major.size':6,\n",
    "        'xtick.minor.size':3,  \n",
    "        'ytick.major.size':6,\n",
    "        'ytick.minor.size':3, \n",
    "        'xtick.major.width':0.5,\n",
    "        'ytick.major.width':0.5,\n",
    "        'xtick.minor.width':0.5,\n",
    "        'ytick.minor.width':0.5,\n",
    "        'lines.markeredgewidth':1,\n",
    "        'axes.linewidth':1.0,\n",
    "        'legend.fontsize': 7,\n",
    "        'xtick.labelsize': 7,\n",
    "        'ytick.labelsize': 7,\n",
    "        'savefig.dpi':200,\n",
    "        'path.simplify':True,\n",
    "        'font.family': 'serif',\n",
    "        'font.serif':'Times',\n",
    "        'text.latex.preamble': [r'\\usepackage{amsmath}'],\n",
    "        'text.usetex':True,\n",
    "        #'axes.color_cycle': ['b', 'lime', 'r', 'purple', 'g', 'c', 'm', 'orange', 'darkblue', \\\n",
    "        #                        'darkcyan', 'y','orangered','chartreuse','brown','deeppink','lightgreen', 'k'],\n",
    "        #'font.serif':cm,\n",
    "        'figure.figsize': fig_size}\n",
    "plt.rcParams.update(params)"
   ]
  },
  {
   "cell_type": "code",
   "execution_count": null,
   "metadata": {},
   "outputs": [],
   "source": [
    "## Let's take a look\n",
    "##TURN OFF SMOOTH\n",
    "\n",
    "fig, ax = plt.subplots() \n",
    "ax.plot(np.arange(0,lmax+1),Cl_all/Cl_all[0], label = \"All sky\",  lw=1.5)\n",
    "ax.plot(np.arange(0,lmax+1),Cl_noise/Cl_noise[0], label = \"Sky without NGC5959\", lw=1.5,linestyle = '-.')\n",
    "ax.set_xlabel('$\\ell$')\n",
    "ax.set_ylabel('$C_\\ell/C_{0}$')\n",
    "ax.minorticks_on()\n",
    "plt.axvline(x=4, ymin=0, ymax = 1, linewidth=1.0, linestyle =\":\", label = \"PTA angular resolution\", c='g')\n",
    "ax.legend(loc='best',frameon=False)\n",
    "plt.xlim(0,50)\n",
    "plt.savefig('plots_kh13_29/step_4/Cl_'+str(loudest_galname)+'_wLimit_NO_SMOOTH.pdf',bbox_inches='tight')"
   ]
  },
  {
   "cell_type": "code",
   "execution_count": null,
   "metadata": {},
   "outputs": [],
   "source": []
  }
 ],
 "metadata": {
  "kernelspec": {
   "display_name": "Python 3",
   "language": "python",
   "name": "python3"
  },
  "language_info": {
   "codemirror_mode": {
    "name": "ipython",
    "version": 3
   },
   "file_extension": ".py",
   "mimetype": "text/x-python",
   "name": "python",
   "nbconvert_exporter": "python",
   "pygments_lexer": "ipython3",
   "version": "3.6.5"
  }
 },
 "nbformat": 4,
 "nbformat_minor": 1
}
